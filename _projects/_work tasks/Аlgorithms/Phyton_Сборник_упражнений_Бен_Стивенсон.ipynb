{
  "cells": [
    {
      "cell_type": "markdown",
      "metadata": {
        "id": "31G--4pR5l2X"
      },
      "source": [
        "# 1.2.1. Чтение ввода\n"
      ]
    },
    {
      "cell_type": "markdown",
      "metadata": {
        "id": "o8v8adPp1zJ1"
      },
      "source": [
        "Программы, написанные на Python, могут читать ввод с клавиатуры при\n",
        "помощи функции input. Вызов этой функции предписывает программе\n",
        "остановить выполнение и ждать завершения пользовательского ввода\n",
        "с клавиатуры. После нажатия пользователем клавиши Enter символы,\n",
        "введенные им ранее, возвращаются функцией input, и выполнение про-\n",
        "граммы продолжается. Обычно возвращенное функцией input значение\n",
        "записывается в переменную при помощи оператора присваивания, чтобы\n",
        "впоследствии его можно было использовать. Например, следующее выра-\n",
        "жение считывает ввод пользователя с клавиатуры и записывает результат\n",
        "в переменную a."
      ]
    },
    {
      "cell_type": "code",
      "execution_count": null,
      "metadata": {
        "colab": {
          "base_uri": "https://localhost:8080/"
        },
        "id": "YkKT8p_z12Dt",
        "outputId": "afbf4f1c-45cb-4ac5-a26d-dcbf6fac2983"
      },
      "outputs": [
        {
          "name": "stdout",
          "output_type": "stream",
          "text": [
            "Hello\n"
          ]
        }
      ],
      "source": [
        "a = input()"
      ]
    },
    {
      "cell_type": "markdown",
      "metadata": {
        "id": "wr90mE-I3PtA"
      },
      "source": [
        "Функция input всегда возвращает значение строкового типа (string), что\n",
        "в компьютерной терминологии означает последовательность символов.\n",
        "\n",
        "Преобразование значения в целочисленный тип\n",
        "осуществляется путем вызова функции int, тогда как перевод в числовой\n",
        "тип с плавающей запятой можно выполнить при помощи функции float.\n",
        "\n",
        "Функции приведения типа принято использовать непосредственно в том\n",
        "же выражении, где запрашивается ввод с клавиатуры."
      ]
    },
    {
      "cell_type": "code",
      "execution_count": null,
      "metadata": {
        "id": "wMls7f7c3c4M"
      },
      "outputs": [],
      "source": [
        "name = input('Введите имя: ')\n",
        "quantity = int(input('Сколько товаров желаете приобрести? '))\n",
        "price = float(input('Какова цена за единицу товара? '))"
      ]
    },
    {
      "cell_type": "markdown",
      "metadata": {
        "id": "ZOqrwVGT4ijF"
      },
      "source": [
        "Математические операции допустимо производить как с целочислен-\n",
        "ными значениями, так и с числами с плавающей запятой. Например, в сле-\n",
        "дующем выражении мы пытаемся вычислить общую сумму приобретае-\n",
        "мых товаров, записывая результат в новую переменную:"
      ]
    },
    {
      "cell_type": "code",
      "execution_count": null,
      "metadata": {
        "id": "Z-ecbZ2W4mP5"
      },
      "outputs": [],
      "source": [
        "total = quantity * price\n",
        "print(name)\n",
        "print(total)"
      ]
    },
    {
      "cell_type": "markdown",
      "metadata": {
        "id": "gQ84NATy5bO3"
      },
      "source": [
        "Это выражение успешно выполнится только в том случае, если состав-\n",
        "ляющие его переменные quantity и price были заранее преобразованы\n",
        "в числовой тип при помощи функций int и float. Попытка выполнить\n",
        "операцию умножения без предварительного преобразования переменных\n",
        "в числовой тип повлечет за собой ошибку программы."
      ]
    },
    {
      "cell_type": "markdown",
      "metadata": {
        "id": "y9kiTIRS6aNe"
      },
      "source": [
        "# 1.4. Форматирование значений"
      ]
    },
    {
      "cell_type": "markdown",
      "metadata": {
        "id": "M6xo6zXc6lqY"
      },
      "source": [
        "Иногда бывает, что в результате выполнения математической операции\n",
        "получается число с большим количеством знаков после запятой. И хотя\n",
        "в некоторых программах критически важно выводить результирующие\n",
        "числа с полной точностью, зачастую бывает необходимо округлить их до\n",
        "определенного количества знаков после запятой."
      ]
    },
    {
      "cell_type": "markdown",
      "metadata": {
        "id": "EGfWeUkb6pnU"
      },
      "source": [
        "Для этого разработчику достаточно указать Python необходимый спецификатор\n",
        "формата (format specifier) при выводе его на экран."
      ]
    },
    {
      "cell_type": "markdown",
      "metadata": {
        "id": "yzr62kNu7mtU"
      },
      "source": [
        "# Упражнение 1. Почтовый адрес\n",
        "Напишите несколько строк кода, выводящих на экран ваше имя и почтовый адрес. Адрес напишите в формате, принятом в вашей стране. Никакого ввода от пользователя ваша первая программа принимать не будет,\n",
        "только вывод на экран и больше ничего.# Новый раздел"
      ]
    },
    {
      "cell_type": "code",
      "execution_count": null,
      "metadata": {
        "colab": {
          "base_uri": "https://localhost:8080/"
        },
        "id": "Ncq0IKTE72Le",
        "outputId": "8f6f83e0-fc62-4cc3-9b20-19c4c847dd78"
      },
      "outputs": [
        {
          "name": "stdout",
          "output_type": "stream",
          "text": [
            "Алексей\n",
            "Индекс 432035\n"
          ]
        }
      ],
      "source": [
        "print('Алексей')\n",
        "print('Индекс 432035')"
      ]
    },
    {
      "cell_type": "markdown",
      "metadata": {
        "id": "Hp0OFF8Z8abm"
      },
      "source": [
        "# Упражнение 2. Приветствие\n",
        "Напишите программу, запрашивающую у пользователя его имя. В ответ\n",
        "на ввод на экране должно появиться приветствие с обращением по имени,\n",
        "введенному с клавиатуры ранее."
      ]
    },
    {
      "cell_type": "code",
      "execution_count": null,
      "metadata": {
        "colab": {
          "base_uri": "https://localhost:8080/"
        },
        "id": "EUPjgqeR8gYJ",
        "outputId": "32611c4e-cc0b-451d-e0b3-ceb61c371c3a"
      },
      "outputs": [
        {
          "name": "stdout",
          "output_type": "stream",
          "text": [
            "Введите свое имя:Самюэль\n",
            "Рады приветствовать Вас, Самюэль\n"
          ]
        }
      ],
      "source": [
        "name = input('Введите свое имя:')\n",
        "print('Рады приветствовать Вас,', name)"
      ]
    },
    {
      "cell_type": "markdown",
      "metadata": {
        "id": "ilrCnpal9H1R"
      },
      "source": [
        "# Упражнение 3. Площадь комнаты\n",
        "\n",
        "Напишите программу, запрашивающую у пользователя длину и ширину\n",
        "комнаты. После ввода значений должен быть произведен расчет площади\n",
        "комнаты и выведен на экран. Длина и ширина комнаты должны вводиться\n",
        "в формате числа с плавающей запятой. Дополните ввод и вывод единицами\n",
        "измерения, принятыми в вашей стране. Это могут быть футы или метры."
      ]
    },
    {
      "cell_type": "code",
      "execution_count": null,
      "metadata": {
        "colab": {
          "base_uri": "https://localhost:8080/"
        },
        "id": "U1o5h5yq9uiQ",
        "outputId": "12459ec8-b3d0-4765-8bc1-a3bb45aa7726"
      },
      "outputs": [
        {
          "name": "stdout",
          "output_type": "stream",
          "text": [
            "Введите длинну комнаты: 4.75\n",
            "Введите ширину комнаты: 7.62\n",
            "Площадь комнаты равна:  36.195  кв.метров\n"
          ]
        }
      ],
      "source": [
        "length = float(input('Введите длинну комнаты: '))\n",
        "width = float(input('Введите ширину комнаты: '))\n",
        "print ('Площадь комнаты равна: ', length * width, ' кв.метров')"
      ]
    },
    {
      "cell_type": "markdown",
      "metadata": {
        "id": "-GDx6hrJ_ROJ"
      },
      "source": [
        "# Упражнение 4. Площадь садового участка\n",
        "\n",
        "Создайте программу, запрашивающую у пользователя длину и ширину\n",
        "садового участка в футах. Выведите на экран площадь участка в акрах.\n",
        "\n",
        "*Подсказка. В одном акре содержится 43 560 квадратных футов.*"
      ]
    },
    {
      "cell_type": "code",
      "execution_count": null,
      "metadata": {
        "colab": {
          "base_uri": "https://localhost:8080/"
        },
        "id": "Hti-SfDH_r4X",
        "outputId": "4507bad6-3491-4d3b-e998-5bcef2da3724"
      },
      "outputs": [
        {
          "name": "stdout",
          "output_type": "stream",
          "text": [
            "Введите длинну участка в футах: 44587\n",
            "Введите ширину участка в футах: 3\n",
            "Площадь садового участка равна: 3.0707300275482092 акров\n"
          ]
        }
      ],
      "source": [
        "length = float(input('Введите длинну участка в футах: '))\n",
        "width = float(input('Введите ширину участка в футах: '))\n",
        "squareFeets = length * width\n",
        "squareAcres = squareFeets / 43560\n",
        "print('Площадь садового участка равна:', squareAcres, 'акров')"
      ]
    },
    {
      "cell_type": "code",
      "execution_count": null,
      "metadata": {
        "colab": {
          "base_uri": "https://localhost:8080/"
        },
        "id": "-V-ZP5hxBIJS",
        "outputId": "6a00a02b-e334-419a-bb2e-79504cfa53ae"
      },
      "outputs": [
        {
          "name": "stdout",
          "output_type": "stream",
          "text": [
            "Введите длинну участка в футах: 44587\n",
            "Введите ширину участка в футах: 3\n",
            "Площадь садового участка равна: 3.0707300275482092 акров\n"
          ]
        }
      ],
      "source": [
        "length = float(input('Введите длинну участка в футах: '))\n",
        "width = float(input('Введите ширину участка в футах: '))\n",
        "print('Площадь садового участка равна:', (length * width) / 43560, 'акров')"
      ]
    },
    {
      "cell_type": "markdown",
      "metadata": {
        "id": "7zLsELX8Csyu"
      },
      "source": [
        "# Упражнение 5. Сдаем бутылки\n",
        "\n",
        "Во многих странах в стоимость стеклотары закладывается определенный\n",
        "депозит, чтобы стимулировать покупателей напитков сдавать пустые бутылки. Допустим, бутылки объемом 1 литр и меньше стоят $0,10, а  бутылки большего объема – $0,25.\n",
        "Напишите программу, запрашивающую у пользователя количество бутылок каждого размера. На экране должна отобразиться сумма, которую\n",
        "можно выручить, если сдать всю имеющуюся посуду. Отформатируйте\n",
        "вывод так, чтобы сумма включала два знака после запятой и дополнялась\n",
        "слева символом доллара."
      ]
    },
    {
      "cell_type": "code",
      "execution_count": null,
      "metadata": {
        "colab": {
          "base_uri": "https://localhost:8080/"
        },
        "id": "aMXT8NZ0Cv2l",
        "outputId": "5a5b22b6-d105-4925-89f3-94c10e15d6c0"
      },
      "outputs": [
        {
          "name": "stdout",
          "output_type": "stream",
          "text": [
            "Сколько маленьких бутылок?:2\n",
            "Сколько ,больших бутылок?:1\n",
            "За сданные бутылки можно выручить: $0.45\n"
          ]
        }
      ],
      "source": [
        "smallBottle = int(input('Сколько маленьких бутылок?:'))\n",
        "largeBottle = int(input('Сколько ,больших бутылок?:'))\n",
        "priceOfBottles = smallBottle * 0.10 + largeBottle * 0.25\n",
        "print('За сданные бутылки можно выручить:', '$' + \"%.2f\" % priceOfBottles)"
      ]
    },
    {
      "cell_type": "markdown",
      "metadata": {
        "id": "HYB8hnoaGLSq"
      },
      "source": [
        "# Упражнение 6. Налоги и чаевые\n",
        "\n",
        "Программа, которую вы напишете, должна начинаться с запроса у пользователя суммы заказа в ресторане. После этого должен быть произведен\n",
        "расчет налога и чаевых официанту. Вы можете использовать принятую\n",
        "в вашем регионе налоговую ставку для подсчета суммы сборов. В качестве\n",
        "чаевых мы оставим 18 % от стоимости заказа без учета налога. На выходе программа должна отобразить отдельно налог, сумму чаевых и итог,\n",
        "включая обе составляющие. Форматируйте вывод таким образом, чтобы\n",
        "все числа отображались с двумя знаками после запятой."
      ]
    },
    {
      "cell_type": "code",
      "execution_count": null,
      "metadata": {
        "colab": {
          "base_uri": "https://localhost:8080/"
        },
        "id": "bSlgYmKlHT-S",
        "outputId": "e7b8f199-b113-4a75-da89-94beaf626dfe"
      },
      "outputs": [
        {
          "name": "stdout",
          "output_type": "stream",
          "text": [
            "Сумма счета: 147\n",
            "Налог: 19.11\n",
            "Чаевые: 26.46\n",
            "Итого: 192.57\n"
          ]
        }
      ],
      "source": [
        "bill = float(input('Сумма счета: '))\n",
        "tax = 13\n",
        "tips = 18\n",
        "taxAmount = bill * tax / 100\n",
        "tipsAmount = bill * tips / 100\n",
        "summ = bill + taxAmount + tipsAmount\n",
        "print('Налог:',\"%.2f\" % taxAmount)\n",
        "print('Чаевые:',\"%.2f\" % tipsAmount)\n",
        "print('Итого:', \"%.2f\" % summ)"
      ]
    },
    {
      "cell_type": "markdown",
      "metadata": {
        "id": "axly0Mq5K94n"
      },
      "source": [
        "# Упражнение 7. Сумма первых n положительных чисел\n",
        "\n",
        "Напишите программу, запрашивающую у пользователя число и подсчитывающую сумму натуральных положительных чисел от 1 до введенного\n",
        "пользователем значения. Сумма первых n положительных чисел может\n",
        "быть рассчитана по формуле:\n",
        "![image.png](data:image/png;base64,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)"
      ]
    },
    {
      "cell_type": "code",
      "execution_count": null,
      "metadata": {
        "colab": {
          "base_uri": "https://localhost:8080/"
        },
        "id": "v9fAW4p2NEOj",
        "outputId": "5cac7e0d-6654-4154-dbdc-42b9ce7b974d"
      },
      "outputs": [
        {
          "name": "stdout",
          "output_type": "stream",
          "text": [
            "Введите число n: 6\n",
            "Сумма натуральных чисел от 1 до n = 21\n"
          ]
        }
      ],
      "source": [
        "NumberN = int(input('Введите число n: '))\n",
        "summOfNatNum = ((NumberN) * (NumberN + 1)) / 2\n",
        "print('Сумма натуральных чисел от 1 до n =', int(summOfNatNum))"
      ]
    },
    {
      "cell_type": "markdown",
      "metadata": {
        "id": "ahKbbKg-P9rJ"
      },
      "source": [
        "# Упражнение 11. Потребление топлива\n",
        "\n",
        "В США потребление автомобильного топлива исчисляется в милях на\n",
        "галлон (miles-per-gallon – MPG). В то же время в Канаде этот показатель\n",
        "обычно выражается в литрах на 100 км (liters-per-hundred kilometers –\n",
        "L/100 km). Используйте свои исследовательские способности, чтобы опре-\n",
        "делить формулу перевода первых единиц исчисления в последние. После\n",
        "этого напишите программу, запрашивающую у пользователя показатель\n",
        "потребления топлива автомобилем в американских единицах и выводя-\n",
        "щую его на экран в канадских единицах."
      ]
    },
    {
      "cell_type": "code",
      "execution_count": null,
      "metadata": {
        "colab": {
          "base_uri": "https://localhost:8080/"
        },
        "id": "PDplaoZXbdHo",
        "outputId": "39222b99-3738-4078-ec1c-3d5464733506"
      },
      "outputs": [
        {
          "name": "stdout",
          "output_type": "stream",
          "text": [
            "Введите расход в милях на галлон: 25\n",
            "Расход: 9.42 литров на 100 км\n"
          ]
        }
      ],
      "source": [
        "MPG = float(input('Введите расход в милях на галлон: '))\n",
        "L100km = 379 / (MPG * 1.6093)\n",
        "print('Расход:','%.2f' % L100km, 'литров на 100 км')"
      ]
    },
    {
      "cell_type": "code",
      "execution_count": null,
      "metadata": {
        "colab": {
          "base_uri": "https://localhost:8080/"
        },
        "id": "AyepK-uZfW69",
        "outputId": "da429fe5-4b53-409f-c638-df4c14dee73e"
      },
      "outputs": [
        {
          "name": "stdout",
          "output_type": "stream",
          "text": [
            "Введите расход в литрах на 100 км: 10.2\n",
            "Расход: 23.09 миль на галлон\n"
          ]
        }
      ],
      "source": [
        "L100km = float(input('Введите расход в литрах на 100 км: '))\n",
        "MPG = 379 / (L100km * 1.6093)\n",
        "print('Расход:','%.2f' % MPG, 'миль на галлон')"
      ]
    },
    {
      "cell_type": "markdown",
      "metadata": {
        "id": "S0tFXoW-O7af"
      },
      "source": [
        "# Упражнение 12. Расстояние между точками на Земле\n",
        "\n",
        "Как известно, поверхность планеты Земля искривлена, и расстояние между точками, характеризующимися одинаковыми градусами по долготе,\n",
        "может быть разным в зависимости от широты. Таким образом, для вычисления расстояния между двумя точками на Земле одной лишь теоремой\n",
        "Пифагора не обойтись.\n",
        "Допустим, (t1, g1) и (t2, g2) – координаты широты и долготы двух точек на\n",
        "поверхности Земли. Тогда расстояние в километрах между ними с учетом\n",
        "искривленности планеты можно найти по следующей формуле:\n",
        "distance = 6371,01´arccos(sin(t1)´sin(t2) + cos(t1)´cos(t2)´cos(g1 - g2))\n",
        "\n",
        "*Примечание*. Число 6371,01 в этой формуле, конечно, было выбрано не случайно\n",
        "и представляет собой среднее значение радиуса Земли в километрах.\n",
        "\n",
        "Напишите программу, в которой пользователь будет вводить координаты двух точек на Земле (широту и долготу) в градусах. На выходе мы\n",
        "должны получить расстояние между этими точками при следовании по\n",
        "кратчайшему пути по поверхности планеты.\n",
        "\n",
        "*Подсказка*. Тригонометрические функции в Python оперируют радианами. Таким\n",
        "образом, вам придется введенные пользователем величины из градусов перевести\n",
        "в радианы, прежде чем вычислять расстояние между точками. В модуле math есть\n",
        "удобная функция с названием radians-Функции:radians, служащая как раз для перевода градусов в радианы."
      ]
    },
    {
      "cell_type": "code",
      "execution_count": null,
      "metadata": {
        "colab": {
          "base_uri": "https://localhost:8080/"
        },
        "id": "Z6l4yN4-Q_qs",
        "outputId": "4968be6a-e39e-40a5-f4a7-9c61a3fd1f5f"
      },
      "outputs": [
        {
          "name": "stdout",
          "output_type": "stream",
          "text": [
            "Широта первой точки: 55\n",
            "Долгота первой точки: 37\n",
            "Широта второй точки: 54\n",
            "Долгота второй точки: 48\n",
            "Расстояние 5392.545789513862\n"
          ]
        }
      ],
      "source": [
        "import math\n",
        "t1, g1 = math.radians(float(input(\"Широта первой точки: \"))), math.radians(float(input(\"Долгота первой точки: \")))\n",
        "t2, g2 = math.radians(float(input(\"Широта второй точки: \"))), math.radians(float(input(\"Долгота второй точки: \")))\n",
        "distanse = 6371.01 * math.acos(math.sin(t1) * math.sin(t2)) + math.cos(t1) * math.cos(t2) * math.cos(g1 -g2)\n",
        "print(\"Расстояние\", distanse)\n"
      ]
    },
    {
      "cell_type": "markdown",
      "metadata": {
        "id": "MJdfYd9Uct4W"
      },
      "source": [
        "# Упражнение 13. Размен\n",
        "\n",
        "Представьте, что вы пишете программное обеспечение для автоматической кассы в магазине самообслуживания. Одной из функций, заложенных в кассу, должен быть расчет сдачи в случае оплаты покупателем\n",
        "наличными.\n",
        "Напишите программу, которая будет запрашивать у пользователя сумму сдачи в центах. После этого она должна рассчитать и вывести на экран,\n",
        "сколько и каких монет потребуется для выдачи указанной суммы, при условии что должно быть задействовано минимально возможное количество\n",
        "монет. Допустим, у нас есть в распоряжении монеты достоинством в 1,\n",
        "5, 10, 25 центов, а также в 1 (loonie) и 2 (toonie) канадских доллара.\n",
        "\n",
        "*Примечание*. Монета номиналом в 1 доллар была выпущена в Канаде в 1987 году.\n",
        "Свое просторечное название (loonie) она получила от изображения полярной гагары\n",
        "(loon) на ней. Двухдолларовая монета, вышедшая девятью годами позже, была прозвана toonie, как комбинация из слов два (two) и loonie."
      ]
    },
    {
      "cell_type": "code",
      "execution_count": null,
      "metadata": {
        "colab": {
          "base_uri": "https://localhost:8080/"
        },
        "id": "Wc4AeJIpeeoA",
        "outputId": "051190c4-58e4-4313-d3a7-f2347f5bbd76"
      },
      "outputs": [
        {
          "name": "stdout",
          "output_type": "stream",
          "text": [
            "Введите сумму сдачи: 542\n",
            "Двухдолларовых монет: 2\n",
            "Однодолларовый монет: 1\n",
            "Монета в 25 центов: 1\n",
            "Монета в 10 центов:: 1\n",
            "Монета в 5 центов: 1\n",
            "Монета в 1 цент: 2\n"
          ]
        }
      ],
      "source": [
        "# Определим константы для монет\n",
        "FIVE_CENTS = 5\n",
        "TEN_CENTS = 10\n",
        "TWENTY_FIVE_CENTS = 25\n",
        "ONE_LOONIE = 100\n",
        "TWO_TOONY = 200\n",
        "\n",
        "# Запросим у пользователя сумму сдачи\n",
        "change = int(input('Введите сумму сдачи: '))\n",
        "\n",
        "# Сдача монетой в 2 доллара, остаток сохраняем в переменной change\n",
        "print('Двухдолларовых монет:', change // TWO_TOONY)\n",
        "change = change % TWO_TOONY\n",
        "\n",
        "# Сдача монетой в 1 доллара, остаток сохраняем в переменной change\n",
        "print('Однодолларовый монет:', change // ONE_LOONIE)\n",
        "change = change % ONE_LOONIE\n",
        "\n",
        "# Сдача монетой в 25 центов, остаток сохраняем в переменной change\n",
        "print('Монета в 25 центов:', change // TWENTY_FIVE_CENTS)\n",
        "change = change % TWENTY_FIVE_CENTS\n",
        "\n",
        "# Сдача монетой в 10 центов, остаток сохраняем в переменной change\n",
        "print('Монета в 10 центов::', change // TEN_CENTS)\n",
        "change = change % TEN_CENTS\n",
        "\n",
        "# Сдача монетой в 5 центов, остаток сохраняем в переменной change\n",
        "print('Монета в 5 центов:', change // FIVE_CENTS)\n",
        "change = change % FIVE_CENTS\n",
        "\n",
        "# Сдача монетой в 1 цент\n",
        "print('Монета в 1 цент:', change)\n",
        "\n",
        "\n"
      ]
    },
    {
      "cell_type": "markdown",
      "metadata": {
        "id": "Mm47bn2sef4r"
      },
      "source": [
        "# Упражнение 14. Рост\n",
        "\n",
        "Многие люди на планете привыкли рассчитывать рост человека в футах\n",
        "и дюймах, даже если в их стране принята метрическая система. Напишите\n",
        "программу, которая будет запрашивать у пользователя количество футов,\n",
        "а затем дюймов в его росте. После этого она должна пересчитать рост\n",
        "в сантиметры и вывести его на экран.\n",
        "\n",
        "*Подсказка*. Один фут равен 12 дюймам, а один дюйм – 2,54 см."
      ]
    },
    {
      "cell_type": "code",
      "execution_count": null,
      "metadata": {
        "colab": {
          "base_uri": "https://localhost:8080/"
        },
        "id": "Sc9AqsZueyLH",
        "outputId": "3ced0f15-061c-41e3-ac0f-fa7c18c0713f"
      },
      "outputs": [
        {
          "name": "stdout",
          "output_type": "stream",
          "text": [
            "Сколько футов в вашем росте: 6\n",
            "Сколько дюймов в вашем росте: 2\n",
            "Ваш рост: 187.96 сантиметров\n"
          ]
        }
      ],
      "source": [
        "# в одном футе  = 12 * 2.54 = 30.48 см\n",
        "FootInCentim = float(input(\"Сколько футов в вашем росте: \")) * 30.48\n",
        "InchInCentim = float(input(\"Сколько дюймов в вашем росте: \")) * 2.54\n",
        "print(\"Ваш рост:\", FootInCentim + InchInCentim, \"сантиметров\")\n"
      ]
    },
    {
      "cell_type": "markdown",
      "metadata": {
        "id": "PQQa1W_We18_"
      },
      "source": [
        "# Упражнение 15. Расстояние\n",
        "\n",
        "Для этого упражнения вам необходимо будет написать программу, которая будет запрашивать у пользователя расстояние в футах. После этого\n",
        "она должна будет пересчитать это число в дюймы, ярды и мили и вывести\n",
        "на экран. Коэффициенты для пересчета единиц вы без труда найдете\n",
        "в интернете."
      ]
    },
    {
      "cell_type": "code",
      "execution_count": null,
      "metadata": {
        "colab": {
          "base_uri": "https://localhost:8080/"
        },
        "id": "PZ_VnCl2e_Yr",
        "outputId": "60d748bf-0127-4253-d6d4-53aa60b373e3"
      },
      "outputs": [
        {
          "name": "stdout",
          "output_type": "stream",
          "text": [
            "Введите расстояние в футах: 45\n",
            "45.0 feet = 540.0 inches\n",
            "45.0 feet = 15.000 yards\n",
            "45.0 feet = 0.009 miles\n"
          ]
        }
      ],
      "source": [
        "feet = float(input('Введите расстояние в футах: '))\n",
        "# 1 фут = 12 дюймов\n",
        "print(feet, 'feet =',feet * 12, 'inches')\n",
        "print(feet, 'feet =','%.3f'% (feet / 3), 'yards')\n",
        "print(feet, 'feet =','%.3f'% (feet / 5280), 'miles')"
      ]
    },
    {
      "cell_type": "markdown",
      "metadata": {
        "id": "KhnFscAUfEdt"
      },
      "source": [
        "# Упражнение 16. Площадь и объем\n",
        "\n",
        "Напишите программу, которая будет запрашивать у пользователя радиус\n",
        "и сохранять его в переменной r. После этого она должна вычислить пло-\n",
        "щадь круга с заданным радиусом и объем шара с тем же радиусом. Ис-\n",
        "пользуйте в своих вычислениях константу pi из модуля math.\n",
        "\n",
        "Подсказка. Площадь круга вычисляется по формуле area = pi * r ** 2,\n",
        "а объем шара – по формуле volume = (4 / 3) pi * r ** 3"
      ]
    },
    {
      "cell_type": "code",
      "execution_count": null,
      "metadata": {
        "colab": {
          "base_uri": "https://localhost:8080/"
        },
        "id": "4dtDS0ZqfooZ",
        "outputId": "71718def-2c73-427f-9960-666483e36bdc"
      },
      "outputs": [
        {
          "name": "stdout",
          "output_type": "stream",
          "text": [
            "Введите радиус: 16\n",
            "Площадь круга: 804.248\n",
            "Объем шара: 17157.285\n"
          ]
        }
      ],
      "source": [
        "import math\n",
        "radius = float(input('Введите радиус: '))\n",
        "area = math.pi * radius ** 2\n",
        "volume = (4 / 3) * math.pi * radius ** 3\n",
        "print('Площадь круга:','%.3f'% area)\n",
        "print('Объем шара:','%.3f'% volume)"
      ]
    },
    {
      "cell_type": "markdown",
      "metadata": {
        "id": "uZsJcOquft4m"
      },
      "source": [
        "# Упражнение 17. Теплоемкость\n",
        "\n",
        "Количество энергии, требуемое для повышения температуры одного\n",
        "грамма материала на один градус Цельсия, называется удельной теплоемкостью материала и обозначается буквой C. Общее количество энергии\n",
        "(q), требуемое для повышения температуры m граммов материала на ΔT\n",
        "градусов Цельсия, может быть рассчитано по формуле: q = mCDT.\n",
        "Напишите программу, запрашивающую у пользователя массу воды\n",
        "и требуемую разницу температур. На выходе вы должны получить коли-\n",
        "чество энергии, которое необходимо добавить или отнять для достижения\n",
        "желаемого температурного изменения.\n",
        "\n",
        "*Подсказка*. Удельная теплоемкость воды равна 4,186 Дж / г*С\n",
        "Поскольку вода обладает плотностью 1 грамм на миллилитр, в данном упражнении можно взаимозаменять граммы и миллилитры.\n",
        "\n",
        "Расширьте свою программу таким образом, чтобы выводилась так-\n",
        "же стоимость сопутствующего нагрева воды. Обычно принято измерять\n",
        "электричество\n",
        "в кВт·ч, а не в джоулях. Для данного примера предположим,\n",
        "что электричество обходится нам в 8,9 цента за один кВт·ч. Используйте\n",
        "свою программу для подсчета стоимости нагрева одной чашки кофе.\n",
        "\n",
        "*Подсказка*. Для решения второй части задачи вам придется найти способ перевода\n",
        "единиц электричества между джоулями и кВт·ч."
      ]
    },
    {
      "cell_type": "code",
      "execution_count": null,
      "metadata": {
        "colab": {
          "base_uri": "https://localhost:8080/"
        },
        "id": "yaXC4P5Agazr",
        "outputId": "d64f49b8-8a5f-451d-86a1-ad76d3c0f84e"
      },
      "outputs": [
        {
          "name": "stdout",
          "output_type": "stream",
          "text": [
            "Введите массу воды: 1000\n",
            "Введите требуемую разницу температур: 100\n",
            "418.6 кДж\n"
          ]
        }
      ],
      "source": [
        "HEAT_CAPACITY = 4.186     # Удельная теплоемкость воды\n",
        "weight, deltaTemp = float(input('Введите массу воды: ')), float(input('Введите требуемую разницу температур: '))\n",
        "amountOfEnergy = weight * HEAT_CAPACITY * deltaTemp\n",
        "print(amountOfEnergy / 1000, 'кДж')"
      ]
    },
    {
      "cell_type": "code",
      "execution_count": null,
      "metadata": {
        "colab": {
          "base_uri": "https://localhost:8080/"
        },
        "id": "-FX5q-yAB5rv",
        "outputId": "90e8cc71-bbe6-487d-a4a3-5f6025d9e310"
      },
      "outputs": [
        {
          "name": "stdout",
          "output_type": "stream",
          "text": [
            "Введите массу воды: 1000\n",
            "Введите требуемую разницу температур: 100\n",
            "0.116 кВч\n",
            "Стоимость: 1.035 центов\n"
          ]
        }
      ],
      "source": [
        "# 1 кВт·ч = 1000 Вт · 3600 с = 3600 кДж. \n",
        "HEAT_CAPACITY = 4.186     # Удельная теплоемкость воды\n",
        "weight, deltaTemp = float(input('Введите массу воды: ')), float(input('Введите требуемую разницу температур: '))\n",
        "amountOfEnergy = weight * HEAT_CAPACITY * deltaTemp\n",
        "kWh = (amountOfEnergy / 1000) / 3600\n",
        "print('%.3f'% kWh, 'кВч')\n",
        "print('Стоимость:','%.3f'% (kWh * 8.9), 'центов')\n",
        " "
      ]
    },
    {
      "cell_type": "markdown",
      "metadata": {
        "id": "Dswrh9vqgfsd"
      },
      "source": [
        "# Упражнение 18. Объем цилиндра\n",
        "\n",
        "Объем цилиндра может быть рассчитан путем умножения площади круга,\n",
        "лежащего в его основе, на высоту. Напишите программу, в которой пользователь будет задавать радиус цилиндра и его высоту, а в ответ получать\n",
        "его объем, округленный до одного знака после запятой."
      ]
    },
    {
      "cell_type": "code",
      "execution_count": null,
      "metadata": {
        "colab": {
          "base_uri": "https://localhost:8080/"
        },
        "id": "8j7SjFaUglaq",
        "outputId": "fc62c6f6-fdbd-402b-9d06-9a4c6be2ac36"
      },
      "outputs": [
        {
          "name": "stdout",
          "output_type": "stream",
          "text": [
            "Введите радиус цилиндра: 5\n",
            "Введите высоту цилиндра: 5\n",
            "Объем цилиндра = 785.4\n"
          ]
        }
      ],
      "source": [
        "import math\n",
        "radius = float(input('Введите радиус цилиндра: '))\n",
        "hight = float(input('Введите высоту цилиндра: '))\n",
        "volume = (2 * math.pi * radius ** 2) * hight\n",
        "print('Объем цилиндра =', '%.1f'% volume)"
      ]
    },
    {
      "cell_type": "markdown",
      "metadata": {
        "id": "CFr9U_5Sg7JR"
      },
      "source": [
        "# Упражнение 19. Свободное падение\n",
        "\n",
        "Напишите программу для расчета скорости объекта во время его соприкосновения с землей. Пользователь должен задать высоту в метрах, с которой объект будет отпущен. Поскольку объекту не будет придаваться\n",
        "ускорение, примем его начальную скорость за 0 м/с. Предположим, что\n",
        "ускорение свободного падения равно 9,8 м/с2. При известных начальной\n",
        "скорости (vi), ускорении (a) и дистанции (d) можно вычислить скорость\n",
        "при соприкосновении объекта с землей по формуле:\n",
        "![image.png](data:image/png;base64,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)"
      ]
    },
    {
      "cell_type": "code",
      "execution_count": null,
      "metadata": {
        "colab": {
          "base_uri": "https://localhost:8080/"
        },
        "id": "Jv7oeEShhU_o",
        "outputId": "a582760a-dd14-4584-9fee-65d96c2a1a42"
      },
      "outputs": [
        {
          "name": "stdout",
          "output_type": "stream",
          "text": [
            "Задайте высоту в метрах: 1000\n",
            "Скорость при столкновении с землей = 140.00 м/с\n",
            "Скорость при столкновении с землей = 504.00 км/ч\n"
          ]
        }
      ],
      "source": [
        "import math\n",
        "FREE_FALL = 9.8   # м/с**2 - ускорение свободного падения\n",
        "distance = float(input('Задайте высоту в метрах: '))\n",
        "collisionSpeed = math.sqrt(2 * FREE_FALL * distance)\n",
        "print('Скорость при столкновении с землей =', '%.2f' % collisionSpeed, 'м/с')\n",
        "print('Скорость при столкновении с землей =', '%.2f' % (collisionSpeed * 3.6), 'км/ч')"
      ]
    },
    {
      "cell_type": "markdown",
      "metadata": {
        "id": "EayNBn77NyKJ"
      },
      "source": [
        "# Упражнение 20. Уравнение состояния идеального газа\n",
        "\n",
        "Уравнение состояния идеального газа представляет собой математическую аппроксимацию поведения газов в условиях изменения давления,\n",
        "объема и температуры. Обычно соответствующая формула записывается\n",
        "так:\n",
        "\n",
        "PV = nRT,\n",
        "\n",
        "где P – это давление в паскалях, V – объем в литрах, n – количество вещества в молях, R – универсальная газовая постоянная, равная 8,314\n",
        "Дж/(моль·К), а T – температура по шкале Кельвина.\n",
        "\n",
        "Напишите программу для измерения количества газа в молях при заданных пользователем давлении, объеме и температуре. Проверьте свою\n",
        "программу путем вычисления количества газа в баллоне для дайвинга.\n",
        "Типичный баллон вмещает 12 л газа под давлением 20 000 000 Па (примерно 3000 фунтов на кв. дюйм). Температуру в комнате примем за 20°\n",
        "по шкале Цельсия или 68° по Фаренгейту.\n",
        "\n",
        "*Подсказка. Чтобы перевести температуру из градусов Цельсия в Кельвины, необходимо прибавить к ней 273,15. Из Фаренгейта в Кельвины температура переводится\n",
        "путем вычитания из нее 32, умножения результата на 5 / 9\n",
        "и прибавления тех же 273,15.*"
      ]
    },
    {
      "cell_type": "code",
      "execution_count": null,
      "metadata": {
        "colab": {
          "base_uri": "https://localhost:8080/"
        },
        "id": "TMjEJdVROPjc",
        "outputId": "dbf975c2-f8cb-43e7-fb5a-ac4c23e58a66"
      },
      "outputs": [
        {
          "name": "stdout",
          "output_type": "stream",
          "text": [
            "Введите температуру в градусах Цельсия: 20\n",
            "Введите давление в паскалях: 20000000\n",
            "Введите объем в литрах: 12\n",
            "Количество газа = 98471.67447923153\n"
          ]
        }
      ],
      "source": [
        "ULNIVERSAL_GAS_CONSTANT = 8.314\n",
        "temperature = float(input('Введите температуру в градусах Цельсия: ')) + 273.15\n",
        "pressure = float(input('Введите давление в паскалях: '))\n",
        "volume = float(input('Введите объем в литрах: '))\n",
        "amountOfSubstance = (pressure * volume) / (ULNIVERSAL_GAS_CONSTANT * temperature)\n",
        "print('Количество газа =', amountOfSubstance)"
      ]
    },
    {
      "cell_type": "markdown",
      "metadata": {
        "id": "G8S1ll0MOQIC"
      },
      "source": [
        "# Упражнение 21. Площадь треугольника\n",
        "\n",
        "Площадь треугольника может быть вычислена с использованием следующей\n",
        "формулы, где b – длина основания треугольника, а h – его высота:\n",
        "\n",
        "area = (b * h) / 2\n",
        "\n",
        "Напишите программу, в которой пользователь сможет вводить значения для переменных b и h, после чего на экране будет отображена площадь\n",
        "треугольника с заявленными основанием и высотой."
      ]
    },
    {
      "cell_type": "code",
      "execution_count": null,
      "metadata": {
        "colab": {
          "base_uri": "https://localhost:8080/"
        },
        "id": "1u4WKV5jOr7k",
        "outputId": "cca5cba9-b37c-4e76-f203-c3f230df4542"
      },
      "outputs": [
        {
          "name": "stdout",
          "output_type": "stream",
          "text": [
            "Основание:5\n",
            "Высота:2\n",
            "Площадь треугольника = 5.0\n"
          ]
        }
      ],
      "source": [
        "b, h = float(input('Основание:')), float(input('Высота:'))\n",
        "print('Площадь треугольника =', (b * h) / 2)"
      ]
    },
    {
      "cell_type": "markdown",
      "metadata": {
        "id": "DiWJUZHsOyks"
      },
      "source": [
        "# Упражнение 22. Площадь треугольника (снова)\n",
        "\n",
        "В предыдущем упражнении мы вычисляли площадь треугольника при известных длинах его основания и высоты. Но можно рассчитать площадьи на основании длин всех трех сторон треугольника. \n",
        "Пусть s1, s2 и s3 – длины сторон, а s = (s1 + s2 + s3)/2. Тогда площадь треугольника может быть вычислена по следующей формуле:\n",
        "\n",
        "![image.png](data:image/png;base64,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)\n",
        "\n",
        "Разработайте программу, которая будет принимать на вход длины всех\n",
        "трех сторон треугольника и выводить его площадь."
      ]
    },
    {
      "cell_type": "code",
      "execution_count": null,
      "metadata": {
        "colab": {
          "base_uri": "https://localhost:8080/"
        },
        "id": "LLR-Q7FQPZlY",
        "outputId": "da177667-2214-46ae-8b20-3a56ad134913"
      },
      "outputs": [
        {
          "name": "stdout",
          "output_type": "stream",
          "text": [
            "S1:5\n",
            "S2:5\n",
            "S3:5\n",
            "Площадь = 10.83\n"
          ]
        }
      ],
      "source": [
        "import math\n",
        "s1, s2, s3 = float(input('S1:')), float(input('S2:')), float(input('S3:'))\n",
        "s = (s1 + s2 + s3) / 2\n",
        "area = math.sqrt(s * (s - s1) * (s - s2) * (s - s3))\n",
        "print('Площадь =','%.2f' % area)"
      ]
    },
    {
      "cell_type": "markdown",
      "metadata": {
        "id": "K_Ju_eIWPaCc"
      },
      "source": [
        "# Упражнение 23. Площадь правильного многоугольника\n",
        "\n",
        "Многоугольник называется правильным, если все его стороны и углы равны. Площадь такой фигуры можно вычислить по следующей формуле,\n",
        "в которой s – длина стороны, а n – количество сторон:\n",
        "\n",
        "![image.png](data:image/png;base64,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)\n",
        "\n",
        "Напишите программу, которая будет запрашивать у пользователя значения переменных s и n и выводить на экран площадь правильного многоугольника, построенного на основании этих величин."
      ]
    },
    {
      "cell_type": "code",
      "execution_count": null,
      "metadata": {
        "colab": {
          "base_uri": "https://localhost:8080/"
        },
        "id": "gNJ1XwgmPzYE",
        "outputId": "031ec5e1-71a4-41b5-a8f1-1de2671debe6"
      },
      "outputs": [
        {
          "name": "stdout",
          "output_type": "stream",
          "text": [
            "кол-во сторон:5\n",
            "длина сторон:6\n",
            "Площадь = 61.93718642120281\n"
          ]
        }
      ],
      "source": [
        "import math\n",
        "n, s = float(input('кол-во сторон:')), float(input('длина сторон:'))\n",
        "area = (n * s ** 2) / (4 * math.tan(math.pi / n))\n",
        "print('Площадь =', area)"
      ]
    },
    {
      "cell_type": "markdown",
      "metadata": {
        "id": "iYl1_FWoP16X"
      },
      "source": [
        "# Упражнение 24. Единицы времени\n",
        "\n",
        "Создайте программу, в которой пользователь сможет ввести временной\n",
        "промежуток в виде количества дней, часов, минут и секунд и узнать общее\n",
        "количество секунд, составляющее введенный отрезок."
      ]
    },
    {
      "cell_type": "code",
      "execution_count": null,
      "metadata": {
        "colab": {
          "base_uri": "https://localhost:8080/"
        },
        "id": "SAqyIAjEP7Gq",
        "outputId": "0883adc5-5924-46a8-e6ee-e118235b8916"
      },
      "outputs": [
        {
          "name": "stdout",
          "output_type": "stream",
          "text": [
            "дней:5\n",
            "часов:2\n",
            "минут:10\n",
            "секунд:50\n",
            "439850 секунд\n"
          ]
        }
      ],
      "source": [
        "day, hour, minute, second = int(input('дней:')), int(input('часов:')), int(input('минут:')), int(input('секунд:'))\n",
        "second = second + minute * 60 + hour * 3600 + day * 86400\n",
        "print (second, 'секунд')"
      ]
    },
    {
      "cell_type": "markdown",
      "metadata": {
        "id": "6BChddAcP9Zk"
      },
      "source": [
        "# Упражнение 25. Единицы времени (снова)\n",
        "\n",
        "В данном упражнении мы развернем ситуацию из предыдущей задачи.\n",
        "На этот раз вам предстоит написать программу, в которой пользователь\n",
        "будет вводить временной промежуток в виде общего количества секунд,\n",
        "после чего на экране должна быть показана та же длительность в формате\n",
        "D:HH:MM:SS, где D, HH, MM и SS – это количество дней, часов, минут и секунд соответственно. При этом последние три значения должны быть выведены в формате из двух цифр, как мы привыкли видеть их на электронных часах. Попробуйте узнать сами, какие символы необходимо ввести\n",
        "в спецификатор формата, чтобы при необходимости числа дополнялись\n",
        "слева не пробелами, а нулями."
      ]
    },
    {
      "cell_type": "code",
      "execution_count": null,
      "metadata": {
        "colab": {
          "base_uri": "https://localhost:8080/"
        },
        "id": "24U63lYyQKUm",
        "outputId": "e335c980-17c2-4b89-a07b-7b8023d24d39"
      },
      "outputs": [
        {
          "name": "stdout",
          "output_type": "stream",
          "text": [
            "Введите кол-во секунд: 587774\n",
            "6:19:16:14\n"
          ]
        }
      ],
      "source": [
        "import time\n",
        "seconds = int(input('Введите кол-во секунд: '))\n",
        "\n",
        "day = seconds // 86400\n",
        "seconds = seconds % 86400\n",
        "\n",
        "hour = seconds // 3600\n",
        "seconds = seconds % 3600\n",
        "\n",
        "minutes = seconds // 60\n",
        "seconds = seconds % 60\n",
        "\n",
        "print(day, hour, minutes, seconds, sep=':')"
      ]
    },
    {
      "cell_type": "markdown",
      "metadata": {
        "id": "WliZDEyTQK4u"
      },
      "source": [
        "# Упражнение 26. Текущее время\n",
        "\n",
        "Модуль time в Python включает в себя несколько очень полезных функций\n",
        "для работы со временем. Одна из таких функций – asctime – считывает\n",
        "текущее системное время компьютера и возвращает его в удобном для\n",
        "восприятия виде. Используйте эту функцию для отображения на экране\n",
        "текущей даты и времени. Никакого ввода от пользователя на этот раз вам\n",
        "не потребуется."
      ]
    },
    {
      "cell_type": "code",
      "execution_count": null,
      "metadata": {
        "colab": {
          "base_uri": "https://localhost:8080/"
        },
        "id": "YZvPA9W-QPm1",
        "outputId": "739985b3-b1d4-4001-b260-00a619dc1ac9"
      },
      "outputs": [
        {
          "name": "stdout",
          "output_type": "stream",
          "text": [
            "Fri Apr 22 12:29:10 2022\n"
          ]
        }
      ],
      "source": [
        "import time\n",
        "print(time.asctime())"
      ]
    },
    {
      "cell_type": "markdown",
      "metadata": {
        "id": "AhxiYECKQQDm"
      },
      "source": [
        "Упражнение 27. Когда Пасха?\n",
        "(33 строки)\n",
        "Пасха традиционно празднуется в воскресенье, следующее за первым\n",
        "полнолунием после дня весеннего равноденствия. Поскольку здесь есть\n",
        "зависимость от фазы луны, фиксированной даты для этого праздника\n",
        "в григорианском календаре не существует. Фактически Пасха может выпасть на любую дату между 22 марта и 25 апреля. День и месяц Пасхи для\n",
        "конкретного года можно вычислить по следующему алгоритму:\n",
        " в переменную a запишите остаток от деления year на 19;\n",
        " в переменную b запишите частное от деления year на 100 с округлением вниз;\n",
        " в переменную c запишите остаток от деления year на 100;\n",
        " в переменную d запишите частное от деления b на 4 с округлением\n",
        "вниз;\n",
        " в переменную e запишите остаток от деления b на 4;\n",
        " в переменную f запишите результат вычисления формулы (b + 8) / 25\n",
        " в переменную g запишите результат вычисления формулы (b - f + 1) / 3\n",
        " в переменную h запишите остаток от деления выражения 19a + b -\n",
        "d - g + 15 на 30;\n",
        " в переменную i запишите частное от деления c на 4 с округлением\n",
        "вниз;\n",
        " в переменную k запишите остаток от деления c на 4;\n",
        " в переменную l запишите остаток от деления выражения 32 + 2e +\n",
        "2i - h - k на 7;\n",
        " в переменную m запишите результат вычисления формулы:\n",
        "\n",
        "![image.png](data:image/png;base64,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)\n",
        "с округлением вниз;\n",
        "\n",
        " установите месяц равным результату вычисления формулы:\n",
        "\n",
        "![image.png](data:image/png;base64,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)\n",
        "\n",
        " установите день равным единице плюс остаток от деления выраже-\n",
        "ния h + l - 7m + 114 на 31.\n",
        "Напишите программу, реализующую этот алгоритм. Пользователь дол-\n",
        "жен ввести год, для которого его интересует дата Пасхи, и получить ответ\n",
        "на свой вопрос."
      ]
    },
    {
      "cell_type": "code",
      "execution_count": null,
      "metadata": {
        "id": "inoWrMqIRWPR"
      },
      "outputs": [],
      "source": []
    },
    {
      "cell_type": "markdown",
      "metadata": {
        "id": "jjedJUqXRWsP"
      },
      "source": [
        "# Упражнение 28. Индекс массы тела\n",
        "\n",
        "Напишите программу для расчета индекса массы тела (body mass index –\n",
        "BMI) человека. Пользователь должен ввести свой рост и вес, после чего вы\n",
        "используете одну из приведенных ниже формул для определения индекса.\n",
        "Если пользователь вводит рост в дюймах, а вес в фунтах, формула будет\n",
        "следующей:\n",
        "\n",
        "![image.png](data:image/png;base64,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)\n",
        "\n",
        "Если же пользователь предпочитает вводить информацию о себе в сан-\n",
        "тиметрах и килограммах, формула упростится и станет такой:\n",
        "\n",
        "![image.png](data:image/png;base64,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)"
      ]
    },
    {
      "cell_type": "code",
      "execution_count": null,
      "metadata": {
        "id": "B5jWF6HrRqAj"
      },
      "outputs": [],
      "source": []
    },
    {
      "cell_type": "markdown",
      "metadata": {
        "id": "R91kijhNR2f5"
      },
      "source": [
        "# Упражнение 33. Сортировка трех чисел\n",
        "\n",
        "Напишите программу, запрашивающую у пользователя три целых числа\n",
        "и выводящую их в упорядоченном виде – по возрастанию. Используйте\n",
        "функции min и max для нахождения наименьшего и наибольшего значений.\n",
        "Оставшееся число можно найти путем вычитания из суммы трех введенных чисел максимального и минимального."
      ]
    },
    {
      "cell_type": "code",
      "execution_count": null,
      "metadata": {
        "colab": {
          "base_uri": "https://localhost:8080/"
        },
        "id": "1j72oVcfR8l8",
        "outputId": "f32ba8f3-fcb2-4193-f6b3-4c365b573486"
      },
      "outputs": [
        {
          "name": "stdout",
          "output_type": "stream",
          "text": [
            "Введите 3 целых числа: 125 1 475\n",
            "1 125 475\n"
          ]
        }
      ],
      "source": [
        "str_enter = input('Введите 3 целых числа: ').split()\n",
        "num_enter = list(map(int, str_enter))\n",
        "minimum = min(num_enter)\n",
        "maximum = max(num_enter)\n",
        "\n",
        "print(minimum, sum(num_enter) - minimum - maximum, maximum)"
      ]
    },
    {
      "cell_type": "markdown",
      "metadata": {
        "id": "W-ok5pgmR9YJ"
      },
      "source": [
        "# Упражнение 34. Вчерашний хлеб\n",
        "\n",
        "Пекарня продает хлеб по $3,49 за буханку. Скидка на вчерашний хлеб составляет 60 %. Напишите программу, которая будет запрашивать у пользователя количество приобретенных вчерашних буханок хлеба. В вывод на\n",
        "экран должны быть включены обычная цена за буханку, цена со скидкой\n",
        "и общая стоимость приобретенного хлеба. Все значения должны быть выведены на отдельных строках с соответствующими описаниями. Используйте для вывода формат с двумя знаками после запятой и выровненным\n",
        "разделителем."
      ]
    },
    {
      "cell_type": "code",
      "execution_count": null,
      "metadata": {
        "colab": {
          "base_uri": "https://localhost:8080/"
        },
        "id": "DvSPaQC8SLud",
        "outputId": "7bf9b35e-9f7b-40ac-ce75-7e4185ebe01c"
      },
      "outputs": [
        {
          "name": "stdout",
          "output_type": "stream",
          "text": [
            "Сколько приобретено вчерашних буханок хлеба: 2\n",
            "Обычная цена за буханку хлеба:     \t 3.49\n",
            "Цена за вчерашнюю буханку со скидкой: \t 1.40\n",
            "Общая стоимость приобретенного хлеба: \t 2.79\n"
          ]
        }
      ],
      "source": [
        "from typing import NoReturn\n",
        "NORMAL_PRICE = 3.49\n",
        "DISCOUNT = 0.4  # скидка 60 %\n",
        "\n",
        "quantityOfBread = int(input(\"Сколько приобретено вчерашних буханок хлеба: \"))\n",
        "print('Обычная цена за буханку хлеба:    ','\\t', NORMAL_PRICE)\n",
        "print('Цена за вчерашнюю буханку со скидкой:','\\t','%.2f' % (NORMAL_PRICE * DISCOUNT))\n",
        "print('Общая стоимость приобретенного хлеба:','\\t','%.2f' % (NORMAL_PRICE * DISCOUNT * quantityOfBread))"
      ]
    },
    {
      "cell_type": "markdown",
      "metadata": {
        "id": "yu6RYmxYSMg0"
      },
      "source": [
        "![image.png](data:image/png;base64,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)\n",
        "\n",
        "Программы, с которыми вы работали до сих пор, выполнялись строго\n",
        "последовательно. Каждое последующее выражение выполнялось после\n",
        "завершения предыдущего, и все программы работали исключительно\n",
        "построчно сверху вниз. И хотя для простых задач, которые мы решали\n",
        "в первой части книги, такого линейного выполнения программ бывает\n",
        "вполне достаточно, для написания более сложных сценариев потребуется\n",
        "чуть больше.\n",
        "Конструкции принятия решений позволяют программам при необходимости не выполнять определенные строки кода, тем самым производя\n",
        "ветвление. Выполнение программы по-прежнему происходит построчно\n",
        "сверху вниз, но некоторые строки могут быть просто пропущены. Это позволяет выполнять различные операции в зависимости от условий и серьезно\n",
        "повышает вариативность языка Python в отношении решения задач."
      ]
    },
    {
      "cell_type": "markdown",
      "metadata": {
        "id": "U5_L0X-RSbFZ"
      },
      "source": []
    },
    {
      "cell_type": "markdown",
      "metadata": {
        "id": "Pn7EdsvtS7_D"
      },
      "source": [
        "# 2.1. Выражения if\n",
        "\n",
        "В программах, написанных на языке Python, ветвление осуществляется\n",
        "при помощи ключевого слова if. Выражение if включает в себя одно или\n",
        "несколько условий, а также тело выражения. При выполнении условного выражения происходит оценка заданного условия, на основании чего\n",
        "принимается решение, будут ли выполняться инструкции в теле выражения. Если результатом условного выражения будет True (Истина), то тело\n",
        "выполнится, после чего программа продолжится. Если же в результате\n",
        "проверки условия получится False (Ложь), тело будет пропущено, а выполнение программы продолжится с первой строки после тела.\n",
        "Условия в выражении if могут быть достаточно сложными, а результат\n",
        "может принимать значение True или False. Такие выражения называются\n",
        "булевыми в честь Джорджа Буля (George Boole) (1815–1864) – пионера\n",
        "в области формальной логики.\n",
        "Выражения if часто включают в себя операторы отношения (relational\n",
        "operator), сравнивающие значения, переменные или целые сложные выражения. Операторы отношения, присутствующие в языке Python, перечислены в табл. 2.1."
      ]
    },
    {
      "cell_type": "markdown",
      "metadata": {
        "id": "-6tratPyTJGY"
      },
      "source": [
        "![image.png](data:image/png;base64,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)"
      ]
    },
    {
      "cell_type": "markdown",
      "metadata": {
        "id": "Gz8G88LFTV0j"
      },
      "source": [
        "Тело выражения if может включать в себя одну или несколько инструкций, которые пишутся с отступом от ключевого слова if. Блок тела заканчивается, когда отступ снова выравнивается относительно слова if. Вы\n",
        "можете сами выбрать, какую величину отступа использовать в своих программах при написании условных выражений. Во всех фрагментах кода\n",
        "в данной книге используются отступы в четыре пробела, но вы можете\n",
        "использовать один или несколько пробелов на свой вкус. Большинство\n",
        "программистов придерживаются одного формата при формировании отступов в теле условных выражений, но в Python такая последовательность\n",
        "в действиях вовсе не обязательна.\n",
        "\n",
        "В следующем фрагменте кода у пользователя запрашивается число,\n",
        "после чего следуют два условных выражения со своими телами, отделен-\n",
        "ными от выражения if двоеточием.\n",
        "```\n",
        "# Запрашиваем значение у пользователя\n",
        "num = float(input(\"Введите число: \"))\n",
        "# Сохраняем подходящее значение в переменной result\n",
        "if num == 0:\n",
        "result = \"Введен ноль\"\n",
        "if num != 0:\n",
        "result = \"Введен не ноль\"\n",
        "# Отобразим результат\n",
        "print(result)\n",
        "```\n",
        "\n",
        "\n"
      ]
    },
    {
      "cell_type": "markdown",
      "metadata": {
        "id": "GegReFeVT6ul"
      },
      "source": [
        "# 2.2. Выражения if-else\n",
        "\n",
        "В предыдущей программе в переменную result записывалось одно стро-\n",
        "ковое значение, если пользователь ввел ноль, и другое, если ввел число,\n",
        "отличное от нуля. Чаще всего условные выражения строятся таким об-\n",
        "разом, что всегда будет выполняться какое-то одно условие из перечисленных. В таких конструкциях два условия одновременно выполняться не\n",
        "могут, но при этом одно из них всегда будет выполнено. Подобные условия\n",
        "называются взаимоисключающими (mutually exclusive).\n",
        "Выражение if-else состоит из части if и соответствующего ему тела,\n",
        "а также части else – без условия, но со своим телом. Во время запуска\n",
        "программы происходит проверка условия. Если его результат будет True,\n",
        "выполнится тело условного выражения if, а тело else будет пропущено.\n",
        "В противном случае все будет наоборот: тело выражения if будет пропущено, а тело else выполнится. Тела обоих выражений одновременно не\n",
        "могут быть выполнены, как и не могут быть пропущены. В таких случаях,\n",
        "когда условия являются взаимоисключающими, можно использовать выражение if–else вместо двух последовательных if. Применение конструкции if–else более предпочтительно, поскольку в этом случае необходимо\n",
        "будет написать только одно условие, при выполнении программы будет\n",
        "выполняться только оно, и к тому же в случае возникновения ошибки\n",
        "или изменения логики программы исправлять вам придется лишь одно\n",
        "условие. Наша предыдущая программа, переписанная под использование\n",
        "выражения `if–else`, будет выглядеть следующим образом:\n",
        "```\n",
        "# Запрашивает значение у пользователя\n",
        "num = float(input(\"Введите число: \"))\n",
        "# Сохраняем подходящее значение в переменной result\n",
        "if num == 0:\n",
        "result = \"Введен ноль\"\n",
        "else:\n",
        "result = \"Введен не ноль\"\n",
        "# Отобразим результат\n",
        "print(result)\n",
        "```\n",
        "При вводе пользователем нуля условное выражение выдаст результат\n",
        "True, и в переменную result будет записано нужное выражение. В этом\n",
        "случае выражение else полностью пропускается. В обратной ситуации,\n",
        "когда пользователь ввел число, отличное от нуля, результатом условного\n",
        "выражения будет False, так что пропущено будет тело выражения if, а выполнится тело выражения else, и в переменную попадет строка о том, что\n",
        "пользователь ввел ненулевое значение. В обоих случаях Python продолжит\n",
        "выполнение с инструкции print, в результате чего ответ будет выведен на\n",
        "экран."
      ]
    },
    {
      "cell_type": "markdown",
      "metadata": {
        "id": "O82HlR5RUwjq"
      },
      "source": [
        "# 2.3. Выражения if-elif-else\n",
        "\n",
        "Выражение if–elif–else используется в случае выбора одной из нескольких альтернатив. Выражение начинается с части if, за которой следует\n",
        "часть elif, а завершается конструкция блоком else. Все эти части выражения должны содержать свои тела с правильными отступами. Кроме того,\n",
        "все инструкции if и elif должны включать в себя условия, результатом\n",
        "вычисления которых может быть либо True, либо False.\n",
        "При выполнении конструкции if–elif–else первой запускается проверка условия в блоке if. Если результатом будет True, выполнится тело этого\n",
        "блока, после чего будут пропущены все оставшиеся части выражения.\n",
        "В противном случае Python перейдет к анализу следующего условия – из\n",
        "блока elif. Если оно верно, будет, как и ожидается, выполнено тело этого\n",
        "блока с последующим пропуском остальных инструкций. Если же нет,\n",
        "Python продолжит проверять все условия до конца выражения. Если ни\n",
        "одно из них не даст истины, будет выполнено тело из блока else, после\n",
        "чего выполнение программы продолжится.\n",
        "Давайте расширим наш предыдущий пример, чтобы выполнялась про-\n",
        "верка не только на ноль, но также на положительные и отрицательные\n",
        "значения. И хотя возможно решить эту задачу посредством выражений\n",
        "if и/или if–else, лучше всего подобные сценарии реализовывать при помощи конструкции if–elif–else, поскольку одно из трех условий должно\n",
        "выполняться в любом случае.\n",
        "```\n",
        "# Запрашиваем значение у пользователя\n",
        "num = float(input(\"Введите число: \"))\n",
        "# Сохраняем подходящее значение в переменной result\n",
        "if num > 0:\n",
        "result = \"Введено положительное число\"\n",
        "elif num < 0:\n",
        "result = \"Введено отрицательное число\"\n",
        "else:\n",
        "result = \"Введен ноль\"\n",
        "# Отобразим результат\n",
        "print(result)\n",
        "```\n",
        "При вводе пользователем положительного значения первое же условие\n",
        "даст результат True, а значит, будет выполнено тело этого блока, после чего\n",
        "программа продолжит выполнение с инструкции print.\n",
        "При вводе отрицательного значения первое условие даст результат\n",
        "False, а значит, начнутся проверки следующих условий по очереди. Второе условие окажется выполнено, в результате чего будет запущено тело\n",
        "этого блока, после чего программа продолжит выполнение с инструкции\n",
        "print.\n",
        "Наконец, если пользователь ввел нулевое значение, все блоки if и elif\n",
        "дадут False, а значит, будет выполнено тело блока else. После этого будет\n",
        "осуществлен вывод результата на экран.\n",
        "Мы видим, что в конструкции if–elif–else всегда будет выполняться\n",
        "только одно тело в зависимости от прописанных условий."
      ]
    },
    {
      "cell_type": "markdown",
      "metadata": {
        "id": "w6weSV0vVI49"
      },
      "source": [
        "# 2.3. Выражения if-elif-else\n",
        "\n",
        "Выражение if–elif–else используется в случае выбора одной из нескольких альтернатив. Выражение начинается с части if, за которой следует\n",
        "часть elif, а завершается конструкция блоком else. Все эти части выражения должны содержать свои тела с правильными отступами. Кроме того,\n",
        "все инструкции if и elif должны включать в себя условия, результатом\n",
        "вычисления которых может быть либо True, либо False.\n",
        "При выполнении конструкции if–elif–else первой запускается проверка условия в блоке if. Если результатом будет True, выполнится тело этого\n",
        "блока, после чего будут пропущены все оставшиеся части выражения.\n",
        "В противном случае Python перейдет к анализу следующего условия – из\n",
        "блока elif. Если оно верно, будет, как и ожидается, выполнено тело этого\n",
        "блока с последующим пропуском остальных инструкций. Если же нет,\n",
        "Python продолжит проверять все условия до конца выражения. Если ни\n",
        "одно из них не даст истины, будет выполнено тело из блока else, после\n",
        "чего выполнение программы продолжится.\n",
        "Давайте расширим наш предыдущий пример, чтобы выполнялась проверка не только на ноль, но также на положительные и отрицательные\n",
        "значения. И хотя возможно решить эту задачу посредством выражений\n",
        "if и/или if–else, лучше всего подобные сценарии реализовывать при помощи конструкции if–elif–else, поскольку одно из трех условий должно\n",
        "выполняться в любом случае.\n",
        "```\n",
        "# Запрашиваем значение у пользователя\n",
        "num = float(input(\"Введите число: \"))\n",
        "# Сохраняем подходящее значение в переменной result\n",
        "if num > 0:\n",
        "result = \"Введено положительное число\"\n",
        "elif num < 0:\n",
        "result = \"Введено отрицательное число\"\n",
        "else:\n",
        "result = \"Введен ноль\"\n",
        "# Отобразим результат\n",
        "print(result)\n",
        "```\n",
        "При вводе пользователем положительного значения первое же условие\n",
        "даст результат True, а значит, будет выполнено тело этого блока, после чего\n",
        "программа продолжит выполнение с инструкции print.\n",
        "При вводе отрицательного значения первое условие даст результат\n",
        "False, а значит, начнутся проверки следующих условий по очереди. Второе условие окажется выполнено, в результате чего будет запущено тело\n",
        "этого блока, после чего программа продолжит выполнение с инструкции\n",
        "print.\n",
        "Наконец, если пользователь ввел нулевое значение, все блоки if и elif\n",
        "дадут False, а значит, будет выполнено тело блока else. После этого будет\n",
        "осуществлен вывод результата на экран.\n",
        "Мы видим, что в конструкции if–elif–else всегда будет выполняться\n",
        "только одно тело в зависимости от прописанных условий."
      ]
    },
    {
      "cell_type": "markdown",
      "metadata": {
        "id": "oXoDV9uqVp5t"
      },
      "source": [
        "# 2.4. Выражения if-elif\n",
        "\n",
        "Надо отметить, что блок else в конструкции if–elif–else является необязательным. Его присутствие гарантирует выполнение одного из блоков\n",
        "выражения в любом случае. Если этот блок отсутствует, это значит, что\n",
        "может не выполниться ни один из блоков. Это произойдет, если ни одно\n",
        "из условий в блоках не даст значения True. Вне зависимости от того, будет\n",
        "ли выполнено хоть одно тело в выражении if–elif, программа продолжит\n",
        "свое выполнение со следующей за последней частью elif инструкции."
      ]
    },
    {
      "cell_type": "markdown",
      "metadata": {
        "id": "N2RxJsFsVu8z"
      },
      "source": [
        "# 2.5. Вложенные выражения if\n",
        "\n",
        "Блоки if, elif и else могут включать в себя любые выражения, включая\n",
        "другие блоки if, if–else, if–elif и if–elif–else. Если одно условное выражение появляется в теле другого, оно называется вложенным (nested).\n",
        "Следующий фрагмент кода иллюстрирует эту концепцию:\n",
        "```\n",
        "# Запрашиваем у пользователя число\n",
        "num = float(input(\"Введите число: \"))\n",
        "# Сохраняем нужный нам результат\n",
        "if num > 0:\n",
        "# Определяем, какое прилагательное нам стоит использовать\n",
        "adjective = \" \"\n",
        "if num >= 1000000:\n",
        "adjective = \" очень большое \"\n",
        "elif num >= 1000:\n",
        "adjective = \" большое \"\n",
        "# Сохраняем в переменную положительные числа с правильным прилагательным\n",
        "result = \"Это\" + adjective + \"положительное число\"\n",
        "elif num < 0:\n",
        "result = \"Это отрицательное\"\n",
        "else:\n",
        "result = \"Это ноль\"\n",
        "# Выводим результат\n",
        "print(result)\n",
        "```\n",
        "Программа начинается с запроса числа у пользователя. Если он ввел\n",
        "число, большее нуля, выполнится тело внешнего блока if. В нем мы сначала инициализируем переменную adjective пробелом. Затем запускается\n",
        "вложенная конструкция if–elif. Если пользователь ввел значение, превышающее или равное миллиону, присвоим переменной adjective строку\n",
        "\" очень большое \". Если введенное значение укладывается в интервал\n",
        "от 1000 до 999 999, переменная adjective получит строковое значение\n",
        "\" большое \". После этого сохраняем результат в переменную result. Блоки\n",
        "elif и else из внешней условной конструкции выполняться не будут, поскольку уже было выполнено тело блока if. Наконец, программа выводит\n",
        "результат на экран.\n",
        "Если бы пользователь ввел отрицательное значение или ноль, выполнился бы второй или третий блок внешней конструкции if–elif–else соответственно. В результате в переменной result оказалось бы другое значение, которое и было бы выведено на экран."
      ]
    },
    {
      "cell_type": "markdown",
      "metadata": {
        "id": "dzgX6tYuWRwU"
      },
      "source": [
        "# 2.6. Булева логика\n",
        "\n",
        "Булевым называется выражение, возвращающее только True или False. Это\n",
        "могут быть как сами булевы значения True и False, так и переменные, хранящие булевы выражения, операторы отношения, а также вызовы функций, возвращающих булево выражение. Булевы выражения также могут\n",
        "включать булевы операторы (Boolean operator), комбинирующие булевы\n",
        "значения. В Python предусмотрены три булевых оператора: not, and и or.\n",
        "Оператор not обращает значение булева выражения. Если переменная\n",
        "x содержит значение True, то выражение not x вернет False, и наоборот.\n",
        "Поведение всех булевых выражений может быть сведено в таблицы\n",
        "истинности (truth table). Такие таблицы содержат один столбец для булева значения переменной, а во втором показан результат примененного\n",
        "к ней булева выражения. Каждая строка в таблице отражает уникальное\n",
        "сочетание значений True и False для переменных в выражении. Таблица\n",
        "истинности для выражения, содержащего n различных переменных, будет\n",
        "состоять из 2n строк, в каждой из которых будет показан результат вычисления выражения для конкретных значений переменных. Например, таблица\n",
        "истинности для оператора not, примененного к одной переменной x,\n",
        "будет включать две строки (21), как показано в табл. 2.2.\n",
        "\n",
        "![image.png](data:image/png;base64,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)\n",
        "\n",
        "Операторы and и or применяются сразу к двум булевым значениям при\n",
        "определении результата. Булево выражение x and y даст True, если x равен\n",
        "True и y тоже равен True. Если x равен False или y равен False, а также если\n",
        "оба значения x и y равны False, выражение x and y даст на выходе False.\n",
        "Таблица истинности для оператора and показана в табл. 2.3. В ней 22 = 4\n",
        "строки, поскольку оператор and применяется к двум переменным.\n",
        "\n",
        "![image.png](data:image/png;base64,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)\n",
        "\n",
        "Булево выражение x or y даст True, если x равен True или y равен True,\n",
        "а также если обе переменные x и y содержат True. Это выражение дает\n",
        "False, только если x и y содержат False. Таблица истинности для оператора\n",
        "or показана в табл. 2.4.\n",
        "\n",
        "![image.png](data:image/png;base64,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)\n",
        "\n",
        "В следующем фрагменте кода на Python показано использование бу-\n",
        "лева оператора or для определения того, входит ли значение, введенное\n",
        "пользователем, в число первых пяти простых чисел. Операторы and и not\n",
        "могут быть использованы в похожей манере при построении сложных\n",
        "логических цепочек.\n",
        "```\n",
        "# Запрашиваем у пользователя целое число\n",
        "x = int(input(\"Введите целое число: \"))\n",
        "# Определяем, входит ли значение в число первых пяти простых чисел\n",
        "if x == 2 or x == 3 or x == 5 or x == 7 or x == 11:\n",
        "print(\"Это одно из первых пяти простых чисел.\")\n",
        "else:\n",
        "print(\"Это не одно из первых пяти простых чисел.\")\n",
        "```"
      ]
    },
    {
      "cell_type": "markdown",
      "metadata": {
        "id": "Kecxvqf5XHlr"
      },
      "source": [
        "# 2.7. Упражнения\n",
        "\n",
        "Представленные здесь упражнения должны быть выполнены с использо-\n",
        "ванием условных конструкций if, if–else, if–elif и if–elif–else, включая\n",
        "концепции, которые были изложены в первой главе. При решении не-\n",
        "которых задач вам также может понадобиться встроить блок if в другой\n",
        "блок if."
      ]
    },
    {
      "cell_type": "markdown",
      "metadata": {
        "id": "z8RdFHZdXw2I"
      },
      "source": [
        "# Упражнение 35. Чет или нечет?\n",
        "\n",
        "Напишите программу, запрашивающую у пользователя целое число и выводящую на экран информацию о том, является введенное число четным\n",
        "или нечетным."
      ]
    },
    {
      "cell_type": "code",
      "execution_count": null,
      "metadata": {
        "colab": {
          "base_uri": "https://localhost:8080/"
        },
        "id": "3v4RgnaSXz_k",
        "outputId": "482a5998-574e-46e9-c186-45a25a08bcc7"
      },
      "outputs": [
        {
          "name": "stdout",
          "output_type": "stream",
          "text": [
            "Введите целое число: 785481\n",
            "Вы ввели не четное число!\n"
          ]
        }
      ],
      "source": [
        "integerNumber = int(input(\"Введите целое число: \"))\n",
        "if integerNumber % 2 == 0:\n",
        "  print(\"Вы ввели четное число!\")\n",
        "else:\n",
        "  print(\"Вы ввели не четное число!\")"
      ]
    },
    {
      "cell_type": "markdown",
      "metadata": {
        "id": "myalW1loX48B"
      },
      "source": [
        "# Упражнение 36. Собачий возраст\n",
        "\n",
        "Считается, что один год, прожитый собакой, эквивалентен семи человеческим годам. При этом зачастую не учитывается, что собаки становятся\n",
        "абсолютно взрослыми уже к двум годам. Таким образом, многие предпочитают каждый из первых двух лет жизни собаки приравнивать к 10,5 года\n",
        "человеческой жизни, а все последующие – к четырем.\n",
        "Напишите программу, которая будет переводить человеческий возраст\n",
        "в собачий с учетом указанной выше логики. Убедитесь, что программа\n",
        "корректно работает при пересчете возраста собаки меньше и больше двух\n",
        "лет. Также программа должна выводить сообщение об ошибке, если пользователь ввел отрицательное число."
      ]
    },
    {
      "cell_type": "code",
      "execution_count": null,
      "metadata": {
        "colab": {
          "base_uri": "https://localhost:8080/"
        },
        "id": "76KY4IMIYCyW",
        "outputId": "7d33fab0-99ae-40e9-9e51-2494400d85f3"
      },
      "outputs": [
        {
          "name": "stdout",
          "output_type": "stream",
          "text": [
            "Введите возраст собаки: 3\n",
            "Соответствует человеческому возврасту: 25.0\n"
          ]
        }
      ],
      "source": [
        "FIRST_TWO_YEARS = 10.5  # два года по 10.5 лет\n",
        "\n",
        "doggy_age = int(input(\"Введите возраст собаки: \"))\n",
        "\n",
        "if doggy_age < 0:\n",
        "  print(\"Возраст не может быть отрицательным !!!\")\n",
        "elif doggy_age > 2:\n",
        "  print(\"Соответствует человеческому возврасту:\", FIRST_TWO_YEARS * 2 + (doggy_age - 2) * 4)  # т.е первые два года по 10,5 + каждый следующий по 4, за вычетом первых двух лет\n",
        "else:\n",
        "  print(\"Соответствует человеческому возврасту:\", doggy_age * FIRST_TWO_YEARS)"
      ]
    },
    {
      "cell_type": "markdown",
      "metadata": {
        "id": "hT7dhtE7YDRP"
      },
      "source": [
        "# Упражнение 37. Гласные и согласные\n",
        "\n",
        "Разработайте программу, запрашивающую у пользователя букву латинского алфавита. Если введенная буква входит в следующий список (a, e, i,\n",
        "o или u), необходимо вывести сообщение о том, что эта буква гласная. Если\n",
        "была введена буква y, программа должна написать, что эта буква может\n",
        "быть как гласной, так и согласной. Во всех других случаях должно выводиться сообщение о том, что введена согласная буква."
      ]
    },
    {
      "cell_type": "code",
      "execution_count": 6,
      "metadata": {
        "id": "838RTOnWYJQf"
      },
      "outputs": [
        {
          "name": "stdout",
          "output_type": "stream",
          "text": [
            "Это гласная буква\n"
          ]
        }
      ],
      "source": [
        "literal = input(\"Введите букву: \") \n",
        "if literal == 'a' or literal == 'e' or literal == 'i' or literal == 'o'or literal == 'u':\n",
        "    print(\"Это гласная буква\")\n",
        "elif literal == 'y':\n",
        "    print(\"Эта буква может быть как гласной, так и согласной\")\n",
        "else:\n",
        "    print(\"Это согласная буква\")\n"
      ]
    },
    {
      "cell_type": "markdown",
      "metadata": {
        "id": "_iKdLSdoYPrv"
      },
      "source": [
        "# Упражнение 38. Угадайте фигуру\n",
        "\n",
        "Напишите программу, определяющую вид фигуры по количеству ее сторон. Запросите у пользователя количество сторон и выведите сообщение\n",
        "с указанием вида фигуры. Программа должна корректно обрабатывать\n",
        "и выводить названия для фигур с количеством сторон от трех до десяти\n",
        "включительно. Если введенное пользователем значение находится за границами этого диапазона, уведомите его об этом."
      ]
    },
    {
      "cell_type": "code",
      "execution_count": 25,
      "metadata": {
        "id": "B2evbIgYYViT"
      },
      "outputs": [
        {
          "name": "stdout",
          "output_type": "stream",
          "text": [
            "Фигура, в которой 7 углов, называется: семиугольник\n"
          ]
        }
      ],
      "source": [
        "def main():\n",
        "   number = request_a_number()\n",
        "   polygon(number)\n",
        "   \n",
        "   \n",
        "def request_a_number():\n",
        "    \"\"\" Функция запрашивает у пользователя целое число и\n",
        "        возвращает его, если это действительно целое число \n",
        "        от 3 до 10 включительно\n",
        "    \"\"\"\n",
        "    number = 0\n",
        "    x = 0\n",
        "    while x < 100:\n",
        "        try:\n",
        "            number  = int(input(\"Введите целое число от 3 до 10 включительно: \"))\n",
        "        except ValueError:\n",
        "            print(\"Введенное значение не является целым числом! Попробуйте снова.\")\n",
        "            continue\n",
        "        if number < 3:\n",
        "            print(\"В многоугольнике не может быть меньше 3 углов. Введите число еще раз.\")\n",
        "            continue\n",
        "        elif number > 10:\n",
        "            print(\"Мы не рассматриваем многоугольники с числом сторон больше 10. Введите число еще раз.\")\n",
        "            continue\n",
        "        x  += 1\n",
        "        return number\n",
        "    \n",
        "\n",
        "def polygon(number):\n",
        "    \"\"\" Фунция принимает на вход число углов многоугольника number и\n",
        "        выводит на экран название фигуры\n",
        "    \"\"\"\n",
        "    prefix = ['', 'углов']\n",
        "    if number == 3:\n",
        "        prefix[0] = \"тре\"\n",
        "        prefix[1] = \"угла\"\n",
        "    elif number == 4:\n",
        "        prefix[0] = \"четырех\"\n",
        "        prefix[1] = \"угла\"\n",
        "    elif number == 5:\n",
        "        prefix[0] = \"пяти\"\n",
        "    elif number == 6:\n",
        "        prefix[0] = \"шести\"\n",
        "    elif number == 7:\n",
        "        prefix[0] = \"семи\"\n",
        "    elif number == 8:\n",
        "        prefix[0] = \"восьми\"\n",
        "    elif number == 9:\n",
        "        prefix[0] = \"девяти\"\n",
        "    elif number == 10:\n",
        "        prefix[0] = \"десяти\"\n",
        "    print(f\"Фигура, в которой {number} {prefix[1]}, называется: {prefix[0]}угольник\")\n",
        "\n",
        "main()"
      ]
    },
    {
      "cell_type": "markdown",
      "metadata": {
        "id": "ZUQVLmcJYYG1"
      },
      "source": [
        "# Упражнение 39. Сколько дней в месяце?\n",
        "\n",
        "Количество дней в месяце варьируется от 28 до 31. Очередная ваша программа должна запрашивать у пользователя название месяца и отображать количество дней в нем. Поскольку годы мы не учитываем, для февраля можно вывести сообщение о том, что этот месяц может состоять как\n",
        "из 28, так и из 29 дней, чтобы учесть фактор високосного года."
      ]
    },
    {
      "cell_type": "code",
      "execution_count": 38,
      "metadata": {
        "id": "gAtvO93oYdlH"
      },
      "outputs": [
        {
          "name": "stdout",
          "output_type": "stream",
          "text": [
            "Вы ввели: аываываываыва. Это не похоже на название месяца. Попробуйте еще раз\n",
            "Вы ввели: февраль. В этом месяце может быть как 28, так и 29 дней, в зависимости от високосности года\n"
          ]
        }
      ],
      "source": [
        "def main():\n",
        "   request_a_month()\n",
        "\n",
        "\n",
        "def request_a_month():\n",
        "    \"\"\" Функция запрашивает у пользователя название месяца, проверяет \n",
        "        переводит в нижний регистр и возвращает \n",
        "    \"\"\"\n",
        "    month = ''\n",
        "    count = 0\n",
        "    while count < 100:\n",
        "        month = input(\"Введите название месяца: \")\n",
        "        month = month.lower()\n",
        "        \n",
        "        if month == 'февраль':\n",
        "            print(f\"Вы ввели: {month}. В этом месяце может быть как 28, так и 29 дней, в зависимости от високосности года\")\n",
        "            return\n",
        "        elif month == 'январь' or month == 'март' or month == 'май' or month == 'июль' or (month \n",
        "                                        == 'август') or month == 'октябрь' or month == 'декабрь':\n",
        "            print(f\"Вы ввели: {month}. В этом месяце 31 день\")\n",
        "            return\n",
        "        elif month == 'апрель' or month == 'июнь' or month == 'сентябрь' or month == 'ноябрь':\n",
        "            print(f\"Вы ввели: {month}. В этом месяце 30 дней\")\n",
        "            return\n",
        "        else:\n",
        "            print(f\"Вы ввели: {month}. Это не похоже на название месяца. Попробуйте еще раз\")\n",
        "        count += 1\n",
        "\n",
        "\n",
        "\n",
        "main()"
      ]
    },
    {
      "cell_type": "markdown",
      "metadata": {
        "id": "z6Y-MzKAYgcT"
      },
      "source": [
        "# Упражнение 40. Громкость звука\n",
        "\n",
        "В табл. 2.5 представлен уровень громкости в децибелах для некоторых\n",
        "распространенных источников шума.\n",
        "\n",
        "![image.png](data:image/png;base64,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)\n",
        "\n",
        "Создайте программу, в которой пользователь будет вводить уровень\n",
        "шума в децибелах. Если введенное им значение будет в точности совпадать с одним из значений в приведенной таблице, необходимо вывести,\n",
        "чему соответствует указанный уровень громкости. Если значение попадет между уровнями в таблице, нужно сообщить, между какими именно.\n",
        "Также программа должна выдавать корректные сообщения, в случае если\n",
        "введенное пользователем значение окажется ниже минимального или\n",
        "больше максимального."
      ]
    },
    {
      "cell_type": "code",
      "execution_count": 23,
      "metadata": {
        "id": "KbBpEJR5Y2lI"
      },
      "outputs": [
        {
          "name": "stdout",
          "output_type": "stream",
          "text": [
            "Уровень громкости ниже чем в тихой комната\n",
            "Уровень громкости точно соответствует уровню громкости в тихой комнате\n",
            "Уровень громкости между тихой комнатой и будильником\n",
            "Уровень громкости точно соответствует уровню громкости будильника\n",
            "Уровень громкости между будильником и газовой газонокосилкой\n",
            "Уровень громкости точно соответствует уровню газовой газонокосилки\n",
            "Уровень громкости между газовой газонокосилкой и отбойным молотком\n",
            "Уровень громкости точно соответствует уровню отбойного молотка\n",
            "Уровень громкости превышает уровень отбойного молотка\n"
          ]
        }
      ],
      "source": [
        "def main():\n",
        "    number = entering_an_integer()\n",
        "\n",
        "    if number == \"#\":\n",
        "        print(\"Очень жаль что Вы уже уходите. До свидания!\")\n",
        "        return\n",
        "    \n",
        "    noise_level(number)\n",
        "\n",
        "def entering_an_integer():\n",
        "    \"\"\" Функция запрашивает у пользователя целое число, проверяет его на \n",
        "        корректность и возвращает\n",
        "    \"\"\"\n",
        "    for i in range(19, -1, -1):\n",
        "        # Запрашиваем у пользователя целое число\n",
        "        enter_value = (input(\"Введите целое число(для выхода введите #): \"))\n",
        "        # Проверяем, ввел ли пол ьзователь #\n",
        "        if enter_value == '#':\n",
        "            return enter_value\n",
        "        try:    # Преобразуем enter_value в int() и если пользователь ввел не int\n",
        "            number = int(enter_value)\n",
        "            return number\n",
        "        except ValueError:\n",
        "            print(f\"Вы ввели не целое число. Попробуйте еще раз. У вас осталось {i} попыток\")\n",
        "            continue\n",
        "    print(\"Вы исчерпали все попытки. Мы вынуждены расстаться с Вами.\")\n",
        "    return '#'\n",
        "\n",
        "def noise_level(number):\n",
        "    \"\"\" Функция принимает на вход целое число, определяет какому уровню шума это\n",
        "        число соответствует и печатает вывод\n",
        "    \"\"\"\n",
        "    if number < 40:\n",
        "        print('Уровень громкости ниже чем в тихой комната')\n",
        "    elif number == 40:\n",
        "        print(\"Уровень громкости точно соответствует уровню громкости в тихой комнате\")\n",
        "    elif number > 40 and number < 70:\n",
        "        print(\"Уровень громкости между тихой комнатой и будильником\")\n",
        "    elif number == 70:\n",
        "        print(\"Уровень громкости точно соответствует уровню громкости будильника\")\n",
        "    elif number > 70 and number < 106:\n",
        "        print(\"Уровень громкости между будильником и газовой газонокосилкой\")\n",
        "    elif number == 106:\n",
        "        print(\"Уровень громкости точно соответствует уровню газовой газонокосилки\")\n",
        "    elif number > 106 and number < 130:\n",
        "        print(\"Уровень громкости между газовой газонокосилкой и отбойным молотком\")\n",
        "    elif number == 130:\n",
        "        print('Уровень громкости точно соответствует уровню отбойного молотка')\n",
        "    else:\n",
        "        print(\"Уровень громкости превышает уровень отбойного молотка\")\n",
        "        \n",
        "\n",
        "main()"
      ]
    },
    {
      "cell_type": "markdown",
      "metadata": {
        "id": "G7rDIPX8Y3i5"
      },
      "source": [
        "# Упражнение 41. Классификация треугольников\n",
        "\n",
        "Все треугольники могут быть отнесены к тому или иному классу (равнобедренные, равносторонние и разносторонние) на основании длин их\n",
        "сторон. Равносторонний треугольник характеризуется одинаковой длиной всех трех сторон, равнобедренный – двух сторон из трех, а у разностороннего треугольника все стороны разной длины.\n",
        "Напишите программу, которая будет запрашивать у пользователя длины всех трех сторон треугольника и выдавать сообщение о том, к какому\n",
        "типу следует его относить."
      ]
    },
    {
      "cell_type": "code",
      "execution_count": 4,
      "metadata": {
        "id": "r0yWv2ALY_xc"
      },
      "outputs": [
        {
          "name": "stdout",
          "output_type": "stream",
          "text": [
            "Ваш треугольник равносторонний\n"
          ]
        }
      ],
      "source": [
        "length1 = float(input(\"Введиту длину первой стороны треугольника: \"))\n",
        "length2 = float(input(\"Введиту длину второй стороны треугольника: \"))\n",
        "length3 = float(input(\"Введиту длину третьей стороны треугольника: \"))\n",
        "\n",
        "if length1 == length2 and length1 == length3:\n",
        "    print(\"Ваш треугольник равносторонний\")\n",
        "elif length1 == length2 or length1 == length3 or length3 == length2:\n",
        "    print(\"Ваш треугольник равнобедренный\")\n",
        "else:\n",
        "    print(\"Ваш треугольник разносторонний\")\n",
        " \n",
        "\n"
      ]
    },
    {
      "cell_type": "markdown",
      "metadata": {
        "id": "KlDiqwuTZAL2"
      },
      "source": [
        "# Упражнение 42. Узнать частоту по ноте\n",
        "\n",
        "В табл. 2.6 перечислены частоты звуков, относящихся к одной октаве, начиная с до.\n",
        "\n",
        "![image.png](data:image/png;base64,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)\n",
        "\n",
        "Пусть ваша программа запрашивает у пользователя обозначение ноты\n",
        "и показывает ее частоту согласно приведенной таблице. После этого вы\n",
        "можете доработать свою программу таким образом, чтобы она поддер-\n",
        "живала все октавы, начиная от субконтроктавы (C0) до пятой октавы (C8).\n",
        "И хотя можно это реализовать путем добавления бесконечного количества\n",
        "блоков if, это будет довольно громоздким, недостаточно элегантным\n",
        "и просто неприемлемым решением данной задачи. Вместо этого при рас-\n",
        "четах лучше использовать отношения между одними и теми же нотами\n",
        "в соседствующих октавах. К примеру, частота любой ноты октавы n будет\n",
        "составлять ровно половину от частоты той же ноты октавы n + 1. Исполь-\n",
        "зуя это соотношение, вы без труда сможете добавить в свою програм-\n",
        "му учет всех нот любой октавы без присутствия бесчисленных условных\n",
        "блоков.\n",
        "\n",
        "* Подсказка. Пользователь должен вводить ноту вместе с номером нотации октавы.\n",
        "Начните с разделения буквы, обозначающей ноту, и цифры, соответствующей номеру\n",
        "октавы. Затем определите частоту введенной ноты по представленной выше таблице\n",
        "и разделите ее на 2 ** 4–x, где x – номер октавы в научной нотации, введенный поль-\n",
        "зователем. Это позволит умножить или разделить на два число из таблицы нужное\n",
        "количество раз."
      ]
    },
    {
      "cell_type": "code",
      "execution_count": 11,
      "metadata": {
        "id": "rH5fs0ygZiJp"
      },
      "outputs": [
        {
          "name": "stdout",
          "output_type": "stream",
          "text": [
            "['D', '4']\n"
          ]
        }
      ],
      "source": [
        "note = input()\n",
        "note = list(note)\n",
        "print(note)"
      ]
    },
    {
      "cell_type": "markdown",
      "metadata": {
        "id": "VR2UlKctZigK"
      },
      "source": [
        "# Упражнение 43. Узнать ноту по частоте\n",
        "\n",
        "В предыдущем упражнении мы определяли частоту ноты по ее названию и номеру октавы. Теперь выполним обратную операцию. Запросите у пользователя частоту звука. Если введенное значение укладывается\n",
        "в диапазон ±1 Гц от значения в таблице, выведите на экран название\n",
        "соответствующей ноты. В противном случае сообщите пользователю,\n",
        "что ноты, соответствующей введенной частоте, не существует. В данном\n",
        "упражнении можно ограничиться только нотами, приведенными в таблице. Нет необходимости брать в расчет другие октавы."
      ]
    },
    {
      "cell_type": "code",
      "execution_count": null,
      "metadata": {
        "id": "X8a_CHbZZsjm"
      },
      "outputs": [],
      "source": []
    },
    {
      "cell_type": "markdown",
      "metadata": {
        "id": "sYohE1PuZs4s"
      },
      "source": [
        "# Упражнение 44. Портреты на банкнотах\n",
        "\n",
        "Во многих странах существует традиция помещать портреты своих быв-\n",
        "ших политических лидеров или других выдающихся личностей на банк-\n",
        "ноты. В табл. 2.7 приведены номиналы банкнот США с изображенными\n",
        "на них людьми.\n",
        "\n",
        "![image.png](data:image/png;base64,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)\n",
        "\n",
        "Напишите программу, которая будет запрашивать у пользователя номинал банкноты и отображать на экране имя деятеля, портрет которого\n",
        "размещен на соответствующем денежном знаке. Если банкноты введенного номинала не существует, должно выводиться сообщение об ошибке.\n",
        "* Примечание. Хотя банкноты номиналом два доллара очень редко можно встретить\n",
        "в США, официально они существуют и могут быть использованы при любых расчетах.\n",
        "Также в начале прошлого века в Америке были выпущены в обращение банкноты номиналом $500, $1000, $5000 и $10 000, хотя с 1945 года они не печатались,\n",
        "а в 1969 году и вовсе были выведены из обращения. Так что их мы не будем рассматривать в данном упражнении."
      ]
    },
    {
      "cell_type": "code",
      "execution_count": 19,
      "metadata": {
        "id": "vTvZdmydaXXC"
      },
      "outputs": [
        {
          "name": "stdout",
          "output_type": "stream",
          "text": [
            "На банкноте номиналом $2, изображен Томас Джефферсон\n"
          ]
        }
      ],
      "source": [
        "person = ['Джордж Вашингтон', 'Томас Джефферсон', 'Авраам Линколь', 'Александр Гамильтон', 'Эндрю Джексон', 'Улисс Грант', 'Бенджамин Франклин']\n",
        "banknote = [1, 2, 5, 10, 20, 50, 100]\n",
        "entered_value = int(input(\"Введите номинал банкноты: \"))\n",
        "flag = False\n",
        "for i in range(len(banknote)):\n",
        "    if entered_value == banknote[i]:\n",
        "        print(f\"На банкноте номиналом ${banknote[i]}, изображен {person[i]}\")\n",
        "        flag = True\n",
        "if not flag:\n",
        "    print(\"Такой банкноты не существует\")\n",
        "    "
      ]
    },
    {
      "cell_type": "markdown",
      "metadata": {
        "id": "toscoRB-aYfm"
      },
      "source": [
        "# Упражнение 45. Даты праздников\n",
        "\n",
        "В Канаде есть три национальных праздника, отмечающихся в одни и те\n",
        "же даты каждый год. Они приведены в табл. 2.8.\n",
        "\n",
        "![image.png](data:image/png;base64,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)\n",
        "\n",
        "Напишите программу, которая будет запрашивать у пользователя день\n",
        "и месяц. Если введенные данные в точности указывают на один из перечисленных в таблице праздников, необходимо вывести его название.\n",
        "В противном случае сообщить, что на заданную дату праздники не прходятся.\n",
        "* Примечание. В Канаде есть два дополнительных национальных праздника: Страстная пятница и Праздник трудящихся, – которые выпадают на разные даты каждый\n",
        "год. Есть свои праздники и в отдельных провинциях – некоторые с фиксированными\n",
        "датами, другие – с плавающими. Мы не будем рассматривать такие праздники в этом\n",
        "упражнении.\n"
      ]
    },
    {
      "cell_type": "code",
      "execution_count": null,
      "metadata": {
        "id": "jI-C4PtPawMw"
      },
      "outputs": [],
      "source": []
    },
    {
      "cell_type": "markdown",
      "metadata": {
        "id": "eFgOHAHyawvK"
      },
      "source": [
        "# Упражнение 46. Какого цвета клетка?\n",
        "\n",
        "Клетки на шахматной доске идентифицируются буквой и цифрой. Буква\n",
        "определяет положение клетки по горизонтали, а цифра – по вертикали,\n",
        "как показано на рис. 2.1.\n",
        "\n",
        "![image.png](data:image/png;base64,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)\n",
        "\n",
        "Ваша программа должна запрашивать у пользователя координаты клетки. Используйте условное выражение для определения того, с какой клетки – белой или черной – начинается столбец. Затем при помощи обычной\n",
        "арифметики необходимо определить цвет конкретной клетки. Например, если пользователь ввел a1, программа должна определить, что клетка\n",
        "с этими координатами черная. Если d5 – белая. Проверку на ошибочность\n",
        "ввода координат клетки выполнять не нужно.\n"
      ]
    },
    {
      "cell_type": "code",
      "execution_count": null,
      "metadata": {
        "id": "t3idhzkUbEH3"
      },
      "outputs": [],
      "source": []
    },
    {
      "cell_type": "markdown",
      "metadata": {
        "id": "rXT6IgLjbEmb"
      },
      "source": [
        "# Упражнение 47. Определение времени года\n",
        "\n",
        "Год делится на четыре сезона: зима, весна, лето и осень. Хотя даты смены\n",
        "сезонов каждый год могут меняться из-за особенностей календаря, мы\n",
        "в данном упражнении примем допущения, перечисленные в табл. 2.9.\n",
        "\n",
        "![image.png](data:image/png;base64,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)\n",
        "\n",
        "Разработайте программу, запрашивающую у пользователя день и ме-\n",
        "сяц – сначала месяц в текстовом варианте, затем номер дня. На выходе\n",
        "программа должна выдать название сезона, которому принадлежит вы-\n",
        "бранная дата."
      ]
    },
    {
      "cell_type": "code",
      "execution_count": null,
      "metadata": {
        "id": "jnjlfaolbROg"
      },
      "outputs": [],
      "source": []
    },
    {
      "cell_type": "markdown",
      "metadata": {
        "id": "ar1YYybBbRh0"
      },
      "source": [
        "# Упражнение 48. Знаки зодиака\n",
        "\n",
        "В гороскопах, наполняющих газеты и журналы, астрологи пытаются положение солнца в момент рождения человека как-то связать с его судьбой.\n",
        "Всего насчитывается 12 знаков зодиака, и все они приведены в табл. 2.10.\n",
        "\n",
        "![image.png](data:image/png;base64,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)\n",
        "\n",
        "Напишите программу, запрашивающую у пользователя дату его рождения и выводящую на экран соответствующий знак зодиака."
      ]
    },
    {
      "cell_type": "code",
      "execution_count": null,
      "metadata": {
        "id": "xxfypRQsbpR5"
      },
      "outputs": [],
      "source": []
    },
    {
      "cell_type": "markdown",
      "metadata": {
        "id": "K6UWECMMbppN"
      },
      "source": [
        "# Упражнение 49. Китайский гороскоп\n",
        "\n",
        "Китайский гороскоп делит время на 12-летние циклы, и каждому году\n",
        "соответствует конкретное животное. Один из таких циклов приведен\n",
        "в табл. 2.11. После окончания одного цикла начинается другой, то есть\n",
        "2012 год снова символизирует дракона.\n",
        "\n",
        "![image.png](data:image/png;base64,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)\n",
        "\n",
        "Напишите программу, которая будет запрашивать у пользователя год\n",
        "рождения и выводить ассоциированное с ним название животного по\n",
        "китайскому гороскопу. При этом программа не должна ограничиваться\n",
        "только годами из приведенной таблицы, а должна корректно обрабатывать все годы нашей эры."
      ]
    }
  ],
  "metadata": {
    "colab": {
      "authorship_tag": "ABX9TyOc+6vDuaQw0qfrvT9n1dEC",
      "collapsed_sections": [],
      "name": "Phyton. Сборник упражнений. Бен Стивенсон",
      "provenance": [],
      "toc_visible": true
    },
    "kernelspec": {
      "display_name": "Python 3.10.4 64-bit",
      "language": "python",
      "name": "python3"
    },
    "language_info": {
      "codemirror_mode": {
        "name": "ipython",
        "version": 3
      },
      "file_extension": ".py",
      "mimetype": "text/x-python",
      "name": "python",
      "nbconvert_exporter": "python",
      "pygments_lexer": "ipython3",
      "version": "3.10.4"
    },
    "vscode": {
      "interpreter": {
        "hash": "26de051ba29f2982a8de78e945f0abaf191376122a1563185a90213a26c5da77"
      }
    }
  },
  "nbformat": 4,
  "nbformat_minor": 0
}
