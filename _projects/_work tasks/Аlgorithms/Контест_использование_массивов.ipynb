{
  "cells": [
    {
      "cell_type": "markdown",
      "metadata": {
        "colab_type": "text",
        "id": "view-in-github"
      },
      "source": [
        "<a href=\"https://colab.research.google.com/github/nvarus/python-training-rep/blob/main/%D0%9A%D0%BE%D0%BD%D1%82%D0%B5%D1%81%D1%82_%D0%B8%D1%81%D0%BF%D0%BE%D0%BB%D1%8C%D0%B7%D0%BE%D0%B2%D0%B0%D0%BD%D0%B8%D0%B5_%D0%BC%D0%B0%D1%81%D1%81%D0%B8%D0%B2%D0%BE%D0%B2.ipynb\" target=\"_parent\"><img src=\"https://colab.research.google.com/assets/colab-badge.svg\" alt=\"Open In Colab\"/></a>"
      ]
    },
    {
      "cell_type": "markdown",
      "metadata": {
        "id": "HhiXy7hcqJOE"
      },
      "source": [
        "# A-Принадлежность точки кругу\n",
        "\n",
        "Даны координаты точки и радиус круга с центром в начале координат. Определить, принадлежит ли данная точка кругу. Напомним, что круг – это часть плоскости, состоящая из всех точек окружности и всех точек, лежащих внутри окружности.\n",
        "\n",
        "Формат входных данных\n",
        "Три целых числа на одной строке: координата точки по оси x, координата точки по оси y, радиус круга r (r > 0).\n",
        "\n",
        "Формат выходных данных\n",
        "Вывести \"YES\" без кавычек, если точка принадлежит кругу, \"NO\" без кавычек в противном случае."
      ]
    },
    {
      "cell_type": "code",
      "execution_count": null,
      "metadata": {
        "colab": {
          "base_uri": "https://localhost:8080/"
        },
        "id": "vgUJ4F4mtctT",
        "outputId": "da9cac3d-9775-421a-987a-cf7a92f75d54"
      },
      "outputs": [],
      "source": [
        "# Рабочий вариант для контеста\n",
        "def main():\n",
        "    Arr = filling_Array()\n",
        "    belonge_the_circle(Arr)    \n",
        "    \n",
        "\n",
        "def filling_Array():\n",
        "    \"\"\" Filling an array with values from the keyboard.\n",
        "        The values are entered in one line, separated by spaces.\n",
        "    \"\"\"\n",
        "    ent_list = input().split()\n",
        "    Arr = (list(map(int, ent_list)))\n",
        "    return Arr   \n",
        "\n",
        "def belonge_the_circle(Arr):\n",
        "    \"\"\" Does the point belong to the circle ?\n",
        "        Arr[0] - X-axis coordinate\n",
        "        Arr[1] - Y-axis coordinate\n",
        "        Arr[2] - circle radius\n",
        "    \"\"\"\n",
        "    import math\n",
        "    cathet1 = Arr[0]\n",
        "    cathet2 = Arr[1]\n",
        "    circleRadius = Arr[2]\n",
        "    hypotenuse = math.sqrt(cathet1 ** 2 + cathet2 ** 2)\n",
        "    if hypotenuse <= circleRadius:\n",
        "        print(\"YES\")\n",
        "    else:\n",
        "        print(\"NO\")\n",
        "  \n",
        " \n",
        "main()"
      ]
    },
    {
      "cell_type": "code",
      "execution_count": null,
      "metadata": {
        "id": "6xJAz4iQ1p9l"
      },
      "outputs": [],
      "source": [
        "# Развитие программы для собственных нужд\n",
        "def main():\n",
        "    Arr = filling_Array()\n",
        "    print(Arr)    \n",
        "    \n",
        "\n",
        "def filling_Array():\n",
        "    \"\"\" \n",
        "        Заполнить массив значениями с клавиатуры.\n",
        "        Значения вводятся в одну строку, разделенную пробелами\n",
        "    \"\"\"\n",
        "    Arr = []\n",
        "    while len(Arr) != 3:\n",
        "        ent_list = input().split()\n",
        "        Arr = (list(map(int, ent_list)))\n",
        "        if len(Arr) < 3 or len(Arr) > 3:\n",
        "            print(\"Размер массива дожен быть равен трём !\")\n",
        "    return Arr   \n",
        "\n",
        "main()"
      ]
    },
    {
      "cell_type": "markdown",
      "metadata": {
        "id": "mPF8SQjXDnfZ"
      },
      "source": [
        "# B-Банковский вклад\n",
        "\n",
        "Вклад в банке составляет x рублей. Ежегодно он увеличивается на p процентов, после чего дробная часть копеек отбрасывается. Каждый год сумма вклада становится больше. Надо определить, через сколько лет вклад составит не менее y рублей.\n",
        "\n",
        "**Формат входных данных**\n",
        "Три натуральных числа: x, p, y.\n",
        "\n",
        "**Формат выходных данных**\n",
        "Число лет, через сколько лет вклад составит не менее y рублей.\n",
        "\n",
        "![image.png](data:image/png;base64,iVBORw0KGgoAAAANSUhEUgAAANwAAADcCAYAAAAbWs+BAAAYp0lEQVR4nO3de1xUdf7H8dcwGj7WTcWQFS+jhrckL3hjZww3XDRMXTRK7WJagbeF1Exa1vTXRSXZ3PQhaYJWZm6aKYKa2M28AIullptlKmmDCKEBalZQOL8/BgZmGBBk/DIDn+fj4eMhh3P9zvd9zvf7PYczGqPRaEIIoYRbfe+AEI1Jk7quQKfTOWI/RANkNBot/28M9aTi8ValzoGr6YZE42IvYA25ntT0hCJNSiEUksAJoZAETgiFHNKHA2iS8z4z/GeQhO1dhg70GTWM0Y/PZfogD0dtTrioxl5PHBa4Mp3v+zuP9CwvMLer50hP2c2S0Pf56vWPiAtq7ehNChfUWOuJwwPXKvBRpoZ4W02bOj2U5feP5+WdqcwPGoN3FcuKxqOx1hMlfbhrzTvQvXNz+KWIn0unuR+JR6fTWf8bEMiEJR+QabN8YdpGnn98BINK53lo/uuk51+zmesYazvdXnmdOh1/S8pRcJSirqqrJ4uP/F7lcleS5qDrFMbbOdeslnHGuuXwK1xlxRSmbWHrLg2G1UPwsfntmMUbedhHCxSR/9lWYpeFMcZrB1+H9QUgLymKUZGbuG38c/zfpp788cIXvLdsMRP2HCZm+0oe7lB+zviFgYStnkWQhwYAbUEGcTOWc+nmH6Sos+rryY1wxrrl8MB9EemPLrLy9L+8vI83R1VuJLTz1WPoX7obhiG0u3qUsdtS+TysL/75H7Ey8l0KZm3hwFx/mplnYlhgbzoFTiF640FCnxlKM6BJzjlO0gL//noM3uaCapJTyNsggXNCta0nN8IZ65ayQZMPnw7lgctvsCWsb+nB2fdr0TXo6IUH8PORDNZrBrMgdKDVMtdaBHBf+ADiXvqEA7MDGO5uPuugcaeZgmu2qLu61pMb4Qx1S8mgSdjceRxeNoVxLyxkbcA2InpoLb87fzydtF/Nl/2CA//huTeKLE2KK1cvotH0orN35a6ml3d7TKZz/JBvAm8N2pxzJGu68kAbubXoCmpbT9aMvZ01Zcv20DNs9CSmPzaKni00VW7DGeuWouvBreiDx9B3xUI+OJFHRI/ygt4x/2F2WM3rh797Ua23cCEnE9PIQXSr876K+lN1PSnvj8GVc/vZETeLEZ+eYvum2VV+5s5Yt+r9cjBt+3cYjUaMRiNZ3x0ncW5zkp9YQMLZEm5p7onJ9DVnc2xHjSAvJxuNxgedtxtQzOkvD0L/bg1yKFmU9scMBgwGA/eM/wdxi6fD4VfYfbykymWcsW4pClwxR1N28iV3MLSrV5VzmZrciiHgbjDtIy/fxB/6+zPZdIilWz/n1wrzuV0+wLaEw5gmD6A3oM3fT+KaW3lSf+dNPxJxM9WsngC4N3Ov1ZqdpW45vElZuPct4nMqPppzke9TUthw5CxMWssTvlqr+cvb2eB2OZPkN18Hr0fo01VLSYsgIleOJyXyAcbmPEfEfWVDt8tI1gQTEx7ErTnfkPzWWtb76Fl0KYO0tPJ1awu+pRAoPn2YYzlB9PF2dDdc3KgbrydF/Pjtf9nzxloYMIeRvlrIsr8NlXWrphweuLPbXmWR1RRPOhmGERmfQFhwD2yfkrNuZ3vSPmgsSzfPY0xpZ9grJJYP2/Rlxdr1PD/xBD+08UEf+iLJ0x+kX2sNV5LimfFqGpDGsxPX2d+pFTN5tmsGySHS4HQWdaonbXwYGPg0m/85jf7uGq5UsQ2VdaumNHV9p4lOp6vXPyy8kjQH3z1DyFh1fxVt7B9JmTGcVcG7JHAK2daL+q4nN6I2deuLSP8aHV+9D5oI0ZhI4IRQyOWblMI5NYQmZW3U9PjkCieEQg4ZpWwMr0ATdSf1xAFNSiFEzUmTUgiFJHBCKCSvOhc3jbzqvDJ51bm4KeRV5/Y57FnK7OxsR61KuLj27dvbnS51xMEPL7dt29aRqxMuKDc3t9rfN8Q6cr1jrkgGTYRQSAInhEISOCEUksAJoZAETgiFJHBCKCSBE0IhCZwQCknghFBIAieEQhI4IRSSwAmhkAROCIUkcEIoJIETQiEJnBAKOeU3YmsLDrEq5j0y6UhwdATDPOx9rewZdke9xl7K3vJnf97ydZXxZ3JsKL512D9j4gLi0ou4pH+CNeN62J3np9R4Xkg6bfm5unmvp/IxVF0uZftWxjNkHlFD2tjMVbOyc2aVy6SqY3UuTha4Qg7HLWUD9zI7pCurkux/PWxZYR+pUImNiQuIi4mDChWn6amdzEnYj2fIPGKHtLGsf30UNxS6svX5hU8lMD2B7VXMZ670XgRHL2WYh6Z0f9cxjdqHzrxsBt2ilzKt9LjsHWvZsW02DrQcm3l//0Us5RWxpmXnzMo/hxhiu2krTLM+VmfkVE1KY+IyPvZ7iuURAXhWM9+ZT3fwjW4MiypUXt24uUzQnWfzpydLpxTy3z2pXNI/UeEDaMWAiKkEcohdqRdqtW/agkPEJRQxOTaWB7tpq51vd3oRfuEzLZW3xGMwEeFDaZn+AZ8U1O69uyUeg5kWG2kVhC53j8GHLD7/+qJlWtNTB9lsbEdw9H2WE8lv3UazMKQrF5P2c7x0Ws3KzrllfpVBsW4MQRU+h9+63cUEnZbMvPx63LPrc6rA6ca9WIOz0xmOpxfTzq8nFec0V7gSWqZ/xXFAW3CSz40l3H1nV6ulf0r9kL2YOH/0BLWJnLniX/+qeOnrL8jEnz5WoTSHH5uQOJK5Evajt9UV6gwHkjKBDI6dKqGmZecKbjHmkWc1pYA84zV8vFrX0x7VjFMFria0BRcwYqJjhYL9KTWeOQlFTA0fCpznhwITbhfzyKQjf/IsP0Rj4gKePXoHM0O62vnAHCM/L4tinRfl31B9ht1RMXzs95jDzsDmY6NCGRRyIft3fmnvZQmStuAQa6JWUxgeTiAasvLya1x2zk437nECOcT6qJWlLQZzn3SPbjSPOXFzEpyuD1db5n5LfPsprIntQdNTO6uYz/yB/C/kaZaPa8NPqd8o2Ttzv+IMwdEvEeVxicNHHbHWMyQnHIBKV9Fy5gGb25gcG4svZ9htd66alp0z6sLI2KX4Ji4gLuYZUqjboJRKLhy4M+yOSuB/IU+zppqzWpOLGayJ2UaL8Biiqul7OdrV1HjmJN3G5NjIOo2IWisbXexg1VeryJi4gH9nj2B+bABVl0rNys55lZXDYCbHhtKndFAqKt35R1tdrklZ4tEGHRqOJsRTGL7Eqs9XkHceaMefPDRc8/TChyx2JnxGt+ilVgMdlZt9jtPaqyO3GHew/OgdzLPq89W1j1HI4bh49mKyGpAxa0Wb9k1omb6OxTzC8oiACk3L8mZkTcvOuZWVw2DLaKy5fz2DQM6RvPFgrfrmqrlc4KALvvpbKo1SQSHfHj3DJf2dpR9CdwbqtFzSj7CpnPYHDhylZa9++AD+9xhsBiaOs5cODOxV3fhrVcqG/EvwC4+xO0rqc6c/0JEJd3e3mm49iFOzsnNu5hNX5ROmB146t5vWN3cUFwyceVj8DuMO3qgwtG9MXMZm40CetLTjW/Hne4bQMn0d75wqKZ1mPjvezM51icdgRurdOZqw3TLiZ76lsB/PkIk30Ny5ftigbFj8vNUZvumpnbyQdBq/8LGWINWs7JyZ+aRxi3EHH1k+1/KRVmc/aTjsO76zs7Pr/Bpr26czKirWjWG+VVOpZk+QlN0krWo9NWf7dIY12zDU7ImP67Pdf2u2fZbycFa1X3Bznr4pk5ubS/v27e1+x3d6errDXnVuW75Qf0+a5Obmotfra/RlJU4VOOH6VAXOmdQmcC7ZpBTCVUnghFBIAieEQhI4IRSSwAmhkAROCIUkcEIoJIETQiEJnBAKSeCEUEgCJ4RCEjghFJLACaGQBE4IhSRwQijk0JcI5ebmOnJ1ogFq7HXEIYHT6XSOWI1o4PR6fX3vQr2r8198CyFqTvpwQigkgRNCIQmcEApJ4IRQSAInhEISOCEUksAJoZAETgiFJHBCKCSBE0IhCZwQCknghFBIAieEQhI4IRSSwAmhkAROCIUkcEIoJIETQiEJnBAKSeCEUEgCJ4RCEjghFJLACaGQBE4IhSRwQigkgRNCIQmcEApJ4IRQSAInhEISOCEUksAJoZAETgiFJHBCKCSBE0IhCZwQCknghFBIAieEQhI4IRSSwAmhkAROCIUkcEIoJIETQiEJnBAKSeCEUEgCJ4RCEjghFJLACaGQBE4IhSRwQigkgRNCIQmcEApJ4IRQSAInhEISOCEUksAJoZAETgiFmtR1BTqdzhH7ISowGo2W/0v5mlUsE1dW58BBwykMZ2AvYI29fBvSSUealEIoJIETQiEJnBAKOaQPB9Ak531m+M8gCZPNbzrQZ9QwRj8+l+mDPBy1uUbp+Iq/MHLZmUrTW/XQM2z0JKaFjeKO5pp62DNRUw4LXJnO9/2dR3qWB8vt6jnSU3azJPR9vnr9I+KCWjt6k42L5i88GB2AT4VJF09/SMqymdzz6T/YljiTgfW2c+J6HB64VoGPMjXE22ra1OmhLL9/PC/vTGV+0Bi8q1hWXJ/GrT+jpk9lqNXUqYQZZjNw9lp2H5vGwD7aeto7cT1K+nDXmnege+fm8EsRP5dOcz8Sj06ns/43IJAJSz4g02b5wrSNPP/4CAaVzvPQ/NdJz79mM9cx1na6vfI6dTr+lpSj4CjrV8fOvYCL/FpU1qT/kZQZ/dHNfI+qj760zFZkWC9jU36Dxz7Nq8d/tlrS7fJ3fLQimtCht1vm+VfKt/xqs4UrSXPsfiadurzCfkcdvAtx+BWusmIK07awdZcGw+ohVk0hgDGLN/KwjxYoIv+zrcQuC2OM1w6+DusLQF5SFKMiN3Hb+Of4v009+eOFL3hv2WIm7DlMzPaVPNyh/JzxCwMJWz2LIA9zP0ZbkEHcjOVcuvkHWa+0+d+wfev7MGAOoY64ugXMZNXfh9IacLucSfKbr7J08iI6fbCI0a3dcLv6Ja89OpFFWYMIX5jA3Da/cTb5bV6ZOpytc7fw6Sx/mpWu6pcSEzz0HJv+1tOy+rPJs4jeXPfddEUOD9wXkf7oIitP/8vL+3hzVOXGZDtfPYb+pbthGEK7q0cZuy2Vz8P64p//ESsj36Vg1hYOzC37EA0MC+xNp8ApRG88SOgzQ2kGNMk5x0la4N9fj8HbHMImOYW8DQ0qcKaSV3hE90rlXwyayZvrZtHf3QGDJi27MsBgKG36Gwjo2ZysoXNIOfI0o4Nac2rDYhYdHUJMarzlhGcwBDPUdwaGZ+PYEDKQ8M7m4F/IOgreD2Iw+Jev/rM/1H0fXZSyQZMPnw7lgctvsCWsr+XsZ8+vRdegoxcewM9HMlivGcyC0IFWy1xrEcB94QOIe+kTDswOYHhZJdO400zBNbteVTVo8u4qpjx+mdfiFnFvBwf3FEqKAGjZsgXwLalJx2BaPKE22+k0KpTJ88NYk2YkvHOX8l80qe4Tb1yUDJqEzZ3H4WVTGPfCQtYGbCOiR3mz5/zxdNJ+NTcpCw78h+feKLI0Pa9cvYhG04vO3pUrkJd3e0ymc/yQbwJvDdqccyRruvJAm4Z9a7GqQZOFs7cxwzCH6Ql38+XzI7Cc8nY+hf/Op0p/MN+iGTMpgmmGtlVv5NJpDqelWZqUO15bzL4Bs9nex/w5FX9djNekjpVOnCWtveikcSPvQh7QBfiRrBNX6Bfs5YAjbxgUXQ9uRR88hr4rFvLBiTwiepQHcsf8h9lhNa8f/u5Ftd7ChZxMTCMH0a3O++qafu8wnAcneZP81nH+9/yI8kBW6I9pii5wYs8WVk28l72rd7FpVBUrO7CKmQdWWU8Laobmd8C9Nnt1kXOHLuMf3qaWR9Nw1XsDbNr275hf2ofT/H6Fz1+dxrgnFtB335s82twTk+lLzuZcg87WgwF5OdloNH7ovN2AYk5/eRD6PyS3HGxZ9cdAHzgQj6yRPLkrlZxR3e0vM/rfZKy637JMydldPBMaQUicLyef+RO39LqFvLNZ/EoXq6ucNj+P703X8OtovqI1PXucfT8+wPiucpuijKL2VzFHU3byJXcwtGvVzQtTk1sxBNwNpn3k5Zv4Q39/JpsOsXTr51bDzW6XD7At4TCmyQPoDWjz95O45lae1N9504/EWTU5t593NuRgesiX3teZt1nz2gVA2/nPBA32gO/zKKAHQ0L6wJq32HrO+tbM97u2sp6+DPc1P91/ImUT++43cFcLefqljMOvcIV73yI+p+IjXBf5PiWFDUfOwqS1POFr/WGX9+HKhqBfB69H6NNVS0mLICJXjicl8gHG5jxHxH1ltwWWkawJJiY8iFtzviH5rbWs99Gz6FIGaWnl69YWfEshUHz6MMdygujj7fqdd9O1I+x6LZ4TFaZdycpgd8rHnKQfTz70V6weoLPqj2WR9mky76SYb9F4c8H+RiosY7lds+si7s/fiTfgNmk+z6ZMJDpkCt8tnMxfy24L/Gc/7eZuIazHz5zdm8TqhM+4Kzycbyp+KMDZnJ/BdI5v0k7S29CdxvTAn8MDd3bbqyyymuJJJ8MwIuMTCAvuUalwrftwnrQPGsvSzfMYU3pW9AqJ5cM2fVmxdj3PTzzBD2180Ie+SPL0B+nXWsOVpHhmvJoGpPHsxHX2d2rFTJ7tmkFySANocJr28c6SfdbTOvdnePBC5s+eQqDtoJFNf6xt/3sYvvIdFo7yhqoCZ9uH69yfcf/cQtJj5ntp15r3Zfpbu7j9jQRWLwsn4ezvtO0/nknr9zM1sDPNOMZHUxbyrqkEljzBQbsb2cKShztwx5nuNgNADZvGaDTaPm1cKzqdrl7/QPJK0hx89wyx6nNY+5GUGcNZFbzLJQJnW571Xb435hhrO43lh8STlv65Lfcj8bQNvcqGM3OuGzjXLAP7GvYYuhBORgInhEIu36RsaBpGk9KxGlIZyBVOCIUcMkrZkN6q5IykfBuOOjcphRA1J01KIRSSwAmhkLzq3AnJq84rayijlPKqcycjrzqvrCGddBz2LGV2drajViXskPJtGBz68HLbttX8FbG4rtzc3Gp/3xjL93pl4mpk0EQIhSRwQigkgRNCIQmcEApJ4IRQSAInhEISOCEUksAJoZAETgiFJHBCKCSBE0IhCZwQCknghFBIAieEQhI4IRSSwAmhUL1/IaM92oJDrIp5j0w6EhwdwTCPun2/WNNTO5mTsB/wZ3JsKL43vKYz7I56jb2Uv1nQLzyGB7u53hcOGhMXEJdexCX9E6wZ18PuPD+lxvNC0mnLz1XNW7auMp4h84gaIt96ao+TBa6Qw3FL2cC9zA7pyqqk2n/1sDVzQLbrH2e+PoO49LqvqzB8CbGlAfspNZ4XEqLBhUJXdvLxC59KYHoC26uYzxwiL4KjlzLMQ1N6ElzHNCqGzvx5bTYOtJzIzOv/F7FI6OxxqialMXEZH/s9xfKIADzrvLZCDsfFUxi+pMozeO10YWTsUqtg/XHIcALR8OlXp6tZznloCw4Rl1DE5NjYak8Q2oJD7E4vwi98pqV1UeIxmIjwobRM/4BPCsxX+KanDrLZ2I7g6PssrYbfuo1mYUhXLibt5/jNPiAX5FSB04170YFnxVYMiHCdK48KJR6DmVaDJvWlr78gE3/6WJVdIf/dkwpk8fnXFwHI/CqDYl0/els1+c9wICkTyODYqRLHHkAD4FSBczXaggsYMeHj1bq+d8Wh8vOyKNZ5Uf5t7GfYHRXDx36PMUGnJTMvHyjkQvbv/NLei7JTpLbgEGuiVlMYHk4gGrLy8utl/52ZBO6GFXJoYyKZdGRgr7o3gJ1V01M7iYraiXv0S0QN8apyvp9S45kbk8Vd12muNnZONmjiKsoGC0qs+jkNzdXUeOYk3cbk2Mhqm6HGxAX8O3sE82MDkGGS6skV7gYYE5ex2ViCZ8i8Bnk2b+3VkVuMO1h+9A7mWfX5CsgzXittQreiTfsmtExfx2IeYXlEQIWmpbmp3bGBNbUdQQJXS2X3nBryvaaWvfrhA/jfY7C6YjU9dZy9dLA0oX3u9Ac6MuHu7lbL2x90ESCBq5XGEDYwj2aO1LtzNGG7ZWjffEthP54hEy1N6N+63cUE3XmSNx7kQul8TU/t5IWk0/iFj63DAwYNl8O+4zs7O7vOr+K2fbKhomLdGOZH1K6PYPsEREXVPWFhT/nTL/Y54omT3Nxc9Hq93e/4dkT52ntSpiLbY6jZEyTl/dmq1lMX9srElTlV4Bq7mx8419PQAidNSiEUksAJoZAETgiFJHBCKCSBE0IhCZwQCknghFBIAieEQhI4IRSSwAmhkAROCIUkcEIoJIETQiEJnBAKSeCEUMihLxHKzc115OqEDSlf1+eQwOl0OkesRlRByrfhqPNffAshak76cEIoJIETQiEJnBAKSeCEUEgCJ4RCEjghFJLACaGQBE4Ihf4f6mVhZEvOd1cAAAAASUVORK5CYII=)"
      ]
    },
    {
      "cell_type": "code",
      "execution_count": null,
      "metadata": {
        "id": "JIkzGjGCDyz_"
      },
      "outputs": [],
      "source": [
        "def main():\n",
        "    Arr = filling_Array()\n",
        "    y = bank_deposit(Arr)\n",
        "    print(y)\n",
        "\n",
        "\n",
        "def filling_Array():\n",
        "    \"\"\" Filling an array with values from the keyboard.\n",
        "        The values are entered in one line, separated by spaces.\n",
        "    \"\"\"\n",
        "    ent_list = input().split()\n",
        "    Arr = (list(map(int, ent_list)))\n",
        "    if len(Arr) == 2:\n",
        "        Arr.append(0)\n",
        "    elif len(Arr) == 1:\n",
        "        Arr.append(0)\n",
        "        Arr.append(0)\n",
        "    return Arr\n",
        "\n",
        "def bank_deposit(Arr):\n",
        "    deposit = Arr[0]\n",
        "    rate = Arr[1]\n",
        "    finalAmount = Arr[2]\n",
        "    year = 0\n",
        "\n",
        "    while deposit < finalAmount:\n",
        "        year += 1\n",
        "        deposit *= 1 + rate / 100\n",
        "        deposit = int(100 * deposit) / 100\n",
        "    return year\n",
        "main()"
      ]
    },
    {
      "cell_type": "code",
      "execution_count": null,
      "metadata": {
        "colab": {
          "base_uri": "https://localhost:8080/"
        },
        "id": "qtie89ffRusO",
        "outputId": "935cdc8d-882e-4da6-ee77-4ba7f97f8369"
      },
      "outputs": [],
      "source": [
        "x = int(input('Введите сумму вклада: '))\n",
        "p = int(input('Введите процент: '))\n",
        "y = int(input('Введите сумму цели: '))\n",
        "i = 0\n",
        "while x < y:\n",
        "    x *= 1 + p / 100\n",
        "    x = int(100 * x) / 100\n",
        "    i += 1\n",
        "print('Понадобится ', i)"
      ]
    },
    {
      "cell_type": "markdown",
      "metadata": {
        "id": "Wroq6tcwD4yx"
      },
      "source": [
        "# C-Максимальное число подряд идущих 1\n",
        "\n",
        "Вводится последовательность, состоящая только из 0 и 1. Необходимо найти максимальное количество 1, идущих подряд (без 0 между ними).\n",
        "\n",
        "**Формат входных данных**\n",
        "В первой строке задается натуральное N<=10000 , длина массива, далее идут N чисел 0 или 1 -- элементы массива. Каждое число вводится с новой строки.\n",
        "\n",
        "**Формат выходных данных**\n",
        "Одно число — результат.\n",
        "\n",
        "![image.png](data:image/png;base64,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)"
      ]
    },
    {
      "cell_type": "markdown",
      "metadata": {
        "id": "-rmA7RdvDzhY"
      },
      "source": []
    },
    {
      "cell_type": "code",
      "execution_count": 78,
      "metadata": {
        "id": "nunAedm6D_k7"
      },
      "outputs": [
        {
          "name": "stdout",
          "output_type": "stream",
          "text": [
            "4\n"
          ]
        }
      ],
      "source": [
        "def main():\n",
        "    Arrey = filling_array()\n",
        "    print(find_ones_in_row(Arrey))\n",
        "    \n",
        "    \n",
        "def filling_array():\n",
        "    number = int(input())\n",
        "    Arr = [0] * number\n",
        "    for i in range(number):\n",
        "        Arr[i] = int(input())\n",
        "    return Arr\n",
        "\n",
        "\n",
        "def find_ones_in_row(Arr):\n",
        "    count = 0\n",
        "    max = 0\n",
        "    for i in Arr:\n",
        "        if i == 1:\n",
        "            count += 1\n",
        "        else:\n",
        "            if count > max:\n",
        "                max = count\n",
        "            count = 0\n",
        "    if count > max:\n",
        "        max = count\n",
        "        count = 0\n",
        "        \n",
        "    return max\n",
        "\n",
        "\n",
        "main()"
      ]
    },
    {
      "cell_type": "markdown",
      "metadata": {
        "id": "2fuZkn60EERt"
      },
      "source": [
        "# D-Обработка массива чисел\n",
        "\n",
        "На вход программа получает набор чисел, заканчивающихся решеткой. Вам требуется найти: среднее, максимальное и минимальное число в последовательности. Так же нужно вывести cумму остатков от деления суммы троек на последнее число тройки (каждые 3 введеных числа образуют тройку).\n",
        "\n",
        "Для понимания рассмотрим пример входных данных: 1 2 3 4 5 6 среднее: (1 + 2 + 3 + 4 + 5 + 6) / 6 = 3.5 максимум: 6 минимум: 1 сумма остатков троек: (1 + 2 + 3) mod 3 + (4 + 5 + 6) mod 6 = 6 mod 3 + 15 mod 6 = 0 + 3 = 3\n",
        "\n",
        "Среднее выводить, округлив до трех знаков после запятой. Для этого нужно использовать функцию round(x, 3)\n",
        "\n",
        "Того ваша программа должна вывести: 3.5 6 1 3\n",
        "\n",
        "Подумайте, имеет ли смысл хранить всю последовательность.\n",
        "\n",
        "**Формат входных данных**\n",
        "Последовательность чисел, заканчивающися '#'. Все числа от 1 до 100. Количество чисел в последовательности кратно трем. Одно число на строку.\n",
        "\n",
        "**Формат выходных данных**\n",
        "Четыре числа, разделенных пробелом.\n",
        "\n",
        "![image.png](data:image/png;base64,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)"
      ]
    },
    {
      "cell_type": "code",
      "execution_count": 25,
      "metadata": {
        "id": "pzOqdHkIEdeK"
      },
      "outputs": [
        {
          "name": "stdout",
          "output_type": "stream",
          "text": [
            "13.308 98 -87 49\n"
          ]
        }
      ],
      "source": [
        "def main():\n",
        "    array = filling_array()\n",
        "    average = round(arithmetic_mean(array), 3)\n",
        "    max = maximum_minimum(array, \"max\")\n",
        "    min = maximum_minimum(array, \"min\")\n",
        "    remains = sum_of_remainder_of_division(array)\n",
        "    print(average, max, min, remains)\n",
        "    \n",
        "    \n",
        "def filling_array():\n",
        "    \"\"\" \n",
        "        Принимает от пользователя по одному числу и складывает в массив,\n",
        "        пока не встретим знак #, который не включается в массив, ввод\n",
        "        чисел прерывается\n",
        "    \"\"\"\n",
        "    array = []\n",
        "    while(len(array) < 100):\n",
        "        try:\n",
        "            ent_number = int(input())\n",
        "            array += [ent_number]\n",
        "        except ValueError:\n",
        "            break\n",
        "    return array\n",
        "\n",
        "\n",
        "def arithmetic_mean(arrey):\n",
        "    \"\"\"\n",
        "        Возвращает среднее арифметическое значение, полученного массива\n",
        "    \"\"\"\n",
        "    \n",
        "    count = 0\n",
        "    for i in arrey:\n",
        "        count += i\n",
        "    return count / len(arrey)\n",
        "\n",
        "\n",
        "def maximum_minimum(array, max_min):\n",
        "    \"\"\" \n",
        "        Находит максимальное или минимальное значение в массиве,\n",
        "        в зависимости от переданного второго аргумента\n",
        "    \"\"\"\n",
        "    # Если ищем минимальное значение\n",
        "    if max_min == \"min\":\n",
        "        min = array[0]\n",
        "        for i in array:\n",
        "            if i < min:\n",
        "                min = i\n",
        "        return min\n",
        "    # Если ищем максимальное значение\n",
        "    elif max_min == \"max\":\n",
        "        max = array[0]\n",
        "        for i in array:\n",
        "            if i > max:\n",
        "                max = i\n",
        "        return max\n",
        "    \n",
        "    \n",
        "def sum_of_remainder_of_division(array):\n",
        "    \"\"\"\n",
        "        Выводит cумму остатков от деления суммы троек на последнее\n",
        "        число тройки (каждые 3 введеных числа образуют тройку).\n",
        "    \"\"\"\n",
        "    remains = 0     # Итоговая сумма, возвращаемая из функции\n",
        "    three = 0       # Счетчик перехода на следующую тройку\n",
        "    for i in range(int(len(array) / 3)):\n",
        "        three_sum = 0\n",
        "        for k in range(3):\n",
        "            three_sum += array[k + three]\n",
        "        remains += three_sum % array[three + 2]\n",
        "        three += 3\n",
        "\n",
        "    return remains\n",
        "\n",
        "\n",
        "main()\n"
      ]
    },
    {
      "cell_type": "markdown",
      "metadata": {
        "id": "BFYmmBFaESno"
      },
      "source": [
        "# E-Результаты работы студентов в семестре\n",
        "\n",
        "Есть результаты работы студентов в семестре. Студентов выводить в порядке суммы их баллов. Требутеся вывести отсортированные результаты работ для каждого студента.\n",
        "\n",
        "Данные вводятся как: student_id value\n",
        "\n",
        "student_id принимает значения от 0 до N. value от 1 до 10\n",
        "\n",
        "Пример входных данных: 0 3 0 5 1 3 1 2\n",
        "\n",
        "Тут представленны данные о двух студента: 0 и 1. Сумма балов студента 0 - 8. Студента 1 - 5. Значит, сначала должны быть напечатаны результаты 0 студента, затем 1. Таким образом сначала надо вывести отсортированные результаты студента 0, затем студента 1:\n",
        "\n",
        "5 3 3 2\n",
        "\n",
        "Напомним, что у list в питоне есть встроенный метод sort и есть функция sorted. У них есть параметр key, который определяет по каким значениям будет сортироваться объект. Например код ниже будет сортировать лист по длинне его элементов. Так же есть параметр reverse.\n",
        "\n",
        "a = ['###', '@', '??'] a.sort(key=lambda x: len(x)) a ['@', '??', '###'] a.sort(key=lambda x: len(x), reverse=True) ['###', '??', '@']\n",
        "\n",
        "Что такое лямбда функция вы узнаете в дальнейшем (так же всегда есть сайт google). Для выполнения этого задания достаточно понять, на что надо заменить функцию len.\n",
        "\n",
        "**Формат входных данных**\n",
        "В первой строке N - количество студентов. Далее идет какое-то количество строк (не равное N) с результатами студентов в формате: student_id value. 0 <= student_id < N. Значения разделены пробелом. Ввод заканчивается #.\n",
        "\n",
        "**Формат выходных данных**\n",
        "Вывести отсортированные результаты студентов в одну строку. Сначала печатаются результаты лучшего по сумме баллов студента, потом второго и так далее. Результаты в одну строку\n",
        "\n",
        "![image.png](data:image/png;base64,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)"
      ]
    },
    {
      "cell_type": "code",
      "execution_count": null,
      "metadata": {
        "id": "XwuFaXZ4EeHA"
      },
      "outputs": [],
      "source": []
    },
    {
      "cell_type": "markdown",
      "metadata": {
        "id": "flPtuTtbFF3X"
      },
      "source": [
        "# F-Шоколадка\n",
        "\n",
        "Саша, не сделал домашнюю работу, зато купил шоколадку. И, по глупости, начал распечатывать ее прямо на уроке... Шелест золотинки услышала учительница. Она хотела вызвать в школу родителей, но Саша уговорил ее не вызывать их, а дать дополнительное задание.\n",
        "\n",
        "Учительница внимательно посмотрела на шоколадку (она была размером 3х4 плиток), разделила на кусочки по две плитки и угостила всех, кто сделал домашнюю работу. А Сашу попросила написать программу, которая определяет, сколько существует способов деления шоколадки размером 3×N плиток на кусочки по две плитки.\n",
        "\n",
        "Для выполнения задания Саше нужна помощь.\n",
        "\n",
        "Примечание: все плитки в шоколадке пронумерованы, поэтому способы деления, симметричные относительно точки или оси могут будут разными.\n",
        "\n",
        "**Формат входных данных**\n",
        "На входе одно число N <= 10000\n",
        "\n",
        "**Формат выходных данных**\n",
        "Вывести одно число, количество способов разделить шоколадку.\n",
        "\n",
        "![image.png](data:image/png;base64,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)"
      ]
    },
    {
      "cell_type": "code",
      "execution_count": null,
      "metadata": {
        "id": "wyjo-7DsFS9t"
      },
      "outputs": [],
      "source": []
    },
    {
      "cell_type": "markdown",
      "metadata": {
        "id": "TV-VNadUFTVs"
      },
      "source": [
        "# G-Степень строки\n",
        "\n",
        "Пусть задана строка s. Назовем ее k-ой (k > 0) степенью s^k строку s^k = sss (k раз). Например, третьей степенью строки abc является строка аbсаbсаbс.\n",
        "\n",
        "Корнем k степени из строки s называется такая строка t (если она существует), что t^k = s.\n",
        "\n",
        "Ваша задача состоит в том, чтобы написать программу, находящую степень строки или корень из нее.\n",
        "\n",
        "Формат входных данных\n",
        "На вход программе подается 2 строки. Первая содержит строку S, вторая - степень k. Отрицательная степень означает взятие корня соответствующей степени.\n",
        "\n",
        "Формат выходных данных\n",
        "Вывести строку, являющуюуся ответом на задачу. Если такой строки нет, то нужно вывести 'NO SOLUTION' (без кавычек).\n",
        "\n",
        "![image.png](data:image/png;base64,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)"
      ]
    },
    {
      "cell_type": "code",
      "execution_count": null,
      "metadata": {
        "id": "OQRZvp0LFo1Z"
      },
      "outputs": [],
      "source": []
    }
  ],
  "metadata": {
    "colab": {
      "authorship_tag": "ABX9TyO/v1mjGRPEIhvrl6fiLYM+",
      "include_colab_link": true,
      "name": "Контест: использование массивов",
      "provenance": []
    },
    "kernelspec": {
      "display_name": "Python 3.10.4 64-bit",
      "language": "python",
      "name": "python3"
    },
    "language_info": {
      "codemirror_mode": {
        "name": "ipython",
        "version": 3
      },
      "file_extension": ".py",
      "mimetype": "text/x-python",
      "name": "python",
      "nbconvert_exporter": "python",
      "pygments_lexer": "ipython3",
      "version": "3.10.4"
    },
    "vscode": {
      "interpreter": {
        "hash": "26de051ba29f2982a8de78e945f0abaf191376122a1563185a90213a26c5da77"
      }
    }
  },
  "nbformat": 4,
  "nbformat_minor": 0
}
