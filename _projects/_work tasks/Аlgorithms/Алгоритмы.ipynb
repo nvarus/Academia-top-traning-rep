{
 "cells": [
  {
   "cell_type": "code",
   "execution_count": 3,
   "metadata": {},
   "outputs": [
    {
     "name": "stdout",
     "output_type": "stream",
     "text": [
      "6\n"
     ]
    }
   ],
   "source": [
    "def findSmallest(arr):\n",
    "    \"\"\" Напишем функцию для поиска наименьшего элемента массива\"\"\"\n",
    "    smallest = arr[0]  # для хранения наименьшего значения\n",
    "    smallest_index = 0  # для хранения индекса наименьшего значения\n",
    "    for i in range(1, len(arr)):\n",
    "        if arr[i] < smallest:\n",
    "            smallest = arr[i]\n",
    "            smallest_index = i\n",
    "    return smallest_index\n",
    "\n",
    "print(findSmallest([3,2,6,5,7,8,1]))"
   ]
  },
  {
   "cell_type": "markdown",
   "metadata": {},
   "source": [
    "Теперь на основе этой функции можно написать функцию сортировки выбором"
   ]
  },
  {
   "cell_type": "code",
   "execution_count": 3,
   "metadata": {},
   "outputs": [
    {
     "name": "stdout",
     "output_type": "stream",
     "text": [
      "[2, 3, 5, 6, 10]\n"
     ]
    }
   ],
   "source": [
    "def findSmallest(arr):\n",
    "    \"\"\" Напишем функцию для поиска наименьшего элемента массива\"\"\"\n",
    "    smallest = arr[0]  # для хранения наименьшего значения\n",
    "    smallest_index = 0  # для хранения индекса наименьшего значения\n",
    "    for i in range(1, len(arr)):\n",
    "        if arr[i] < smallest:\n",
    "            smallest = arr[i]\n",
    "            smallest_index = i\n",
    "    return smallest_index\n",
    "\n",
    "def selectionSort(arr):\n",
    "    mewArr = []\n",
    "    for i in range(len(arr)):\n",
    "        smallest = findSmallest(arr)\n",
    "        mewArr.append(arr.pop(smallest))\n",
    "    return mewArr\n",
    "print (selectionSort([5 ,3 ,6 ,2 ,10]))"
   ]
  }
 ],
 "metadata": {
  "kernelspec": {
   "display_name": "Python 3.10.6 64-bit",
   "language": "python",
   "name": "python3"
  },
  "language_info": {
   "codemirror_mode": {
    "name": "ipython",
    "version": 3
   },
   "file_extension": ".py",
   "mimetype": "text/x-python",
   "name": "python",
   "nbconvert_exporter": "python",
   "pygments_lexer": "ipython3",
   "version": "3.10.6"
  },
  "orig_nbformat": 4,
  "vscode": {
   "interpreter": {
    "hash": "26de051ba29f2982a8de78e945f0abaf191376122a1563185a90213a26c5da77"
   }
  }
 },
 "nbformat": 4,
 "nbformat_minor": 2
}
