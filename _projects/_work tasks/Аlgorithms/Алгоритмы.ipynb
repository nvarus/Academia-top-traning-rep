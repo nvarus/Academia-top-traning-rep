{
 "cells": [
  {
   "cell_type": "code",
   "execution_count": 3,
   "metadata": {},
   "outputs": [
    {
     "name": "stdout",
     "output_type": "stream",
     "text": [
      "6\n"
     ]
    }
   ],
   "source": [
    "def findSmallest(arr):\n",
    "    \"\"\" Напишем функцию для поиска наименьшего элемента массива\"\"\"\n",
    "    smallest = arr[0]  # для хранения наименьшего значения\n",
    "    smallest_index = 0  # для хранения индекса наименьшего значения\n",
    "    for i in range(1, len(arr)):\n",
    "        if arr[i] < smallest:\n",
    "            smallest = arr[i]\n",
    "            smallest_index = i\n",
    "    return smallest_index\n",
    "\n",
    "print(findSmallest([3,2,6,5,7,8,1]))"
   ]
  },
  {
   "cell_type": "markdown",
   "metadata": {},
   "source": [
    "Теперь на основе этой функции можно написать функцию сортировки выбором"
   ]
  },
  {
   "cell_type": "code",
   "execution_count": null,
   "metadata": {},
   "outputs": [],
   "source": [
    "def findSmallest(arr):\n",
    "    \"\"\" Напишем функцию для поиска наименьшего элемента массива\"\"\"\n",
    "    smallest = arr[0]  # для хранения наименьшего значения\n",
    "    smallest_index = 0  # для хранения индекса наименьшего значения\n",
    "    for i in range(1, len(arr)):\n",
    "        if arr[i] < smallest:\n",
    "            smallest = arr[i]\n",
    "            smallest_index = i\n",
    "    return smallest_index\n",
    "\n",
    "def selectionSort(arr):\n",
    "    mewArr = []\n",
    "    for i in range(len(arr)):\n",
    "        smallest = findSmallest(arr)\n",
    "        mewArr.append(arr.pop(smallest))\n",
    "    return mewArr\n",
    "print (selectionSort([5 ,3 ,6 ,2 ,10]))"
   ]
  }
 ],
 "metadata": {
  "kernelspec": {
   "display_name": "Python 3",
   "language": "python",
   "name": "python3"
  },
  "language_info": {
   "codemirror_mode": {
    "name": "ipython",
    "version": 3
   },
   "file_extension": ".py",
   "mimetype": "text/x-python",
   "name": "python",
   "nbconvert_exporter": "python",
   "pygments_lexer": "ipython3",
   "version": "3.11.1 (tags/v3.11.1:a7a450f, Dec  6 2022, 19:58:39) [MSC v.1934 64 bit (AMD64)]"
  },
  "orig_nbformat": 4,
  "vscode": {
   "interpreter": {
    "hash": "03c6f1478cb1afb32f84b781f8654020e442e839ad8282c6cb86ed0ff80ce6e0"
   }
  }
 },
 "nbformat": 4,
 "nbformat_minor": 2
}
