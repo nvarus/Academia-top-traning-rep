{
  "cells": [
    {
      "cell_type": "markdown",
      "metadata": {
        "id": "qu8cwe61sOfM"
      },
      "source": [
        "# Декомпозиция\n",
        "\n",
        "Декомпозиция - разбиение задачи на подзадачи\n",
        "\n",
        "Оформление:\n",
        "\n",
        "* функции\n",
        "* Объекты\n",
        "* Модули\n",
        "\n",
        "\n",
        "\n",
        "\n",
        "\n"
      ]
    },
    {
      "cell_type": "markdown",
      "metadata": {
        "id": "mqQepTyKw_Ls"
      },
      "source": [
        "# Структурное программирование\n",
        "\n",
        "Проектирование сверху вниз"
      ]
    },
    {
      "cell_type": "markdown",
      "metadata": {
        "id": "6YXa55KEe1dx"
      },
      "source": [
        "# Решето Эратосфена\n",
        "\n",
        "алгоритм нахождения всех простых чисел до некоторого целого числа n, который приписывают древнегреческому математику Эратосфену Киренскому. Как и во многих случаях, здесь название алгоритма говорит о принципе его работы, то есть решето подразумевает фильтрацию, в данном случае фильтрацию всех чисел за исключением простых. По мере прохождения списка нужные числа остаются, а ненужные (они называются составными) исключаются."
      ]
    },
    {
      "cell_type": "code",
      "execution_count": null,
      "metadata": {
        "colab": {
          "base_uri": "https://localhost:8080/"
        },
        "id": "lvcneY7EgM4b",
        "outputId": "17710571-78f4-4340-fb15-2848809b260c"
      },
      "outputs": [
        {
          "name": "stdout",
          "output_type": "stream",
          "text": [
            "Введите размер массива: 30\n",
            "2 - простое\n",
            "3 - простое\n",
            "4 - составное\n",
            "5 - простое\n",
            "6 - составное\n",
            "7 - простое\n",
            "8 - составное\n",
            "9 - составное\n",
            "10 - составное\n",
            "11 - простое\n",
            "12 - составное\n",
            "13 - простое\n",
            "14 - составное\n",
            "15 - составное\n",
            "16 - составное\n",
            "17 - простое\n",
            "18 - составное\n",
            "19 - простое\n",
            "20 - составное\n",
            "21 - составное\n",
            "22 - составное\n",
            "23 - простое\n",
            "24 - составное\n",
            "25 - составное\n",
            "26 - составное\n",
            "27 - составное\n",
            "28 - составное\n",
            "29 - простое\n",
            "30 - составное\n"
          ]
        }
      ],
      "source": [
        "N = int(input('Введите размер массива: ')) + 1\n",
        "A = [True] * N\n",
        "A[0] = A[1] = False\n",
        "for k in range(2, N):\n",
        "  if A[k]:\n",
        "    for m in range(2 * k, N, k):\n",
        "      A[m] = False\n",
        "\n",
        "for k in range(2,N):\n",
        "  print(k, '-', \"простое\" if A[k] else \"составное\")\n"
      ]
    },
    {
      "cell_type": "markdown",
      "metadata": {
        "id": "CYR6vYuH_Q7l"
      },
      "source": [
        "# Задача A-Сумма цифр трехзначного числа\n",
        "Дано трехзначное число. Найдите сумму его цифр.\n",
        "\n",
        "Формат входных данных\n",
        "Вводится трехзначное число.\n",
        "\n",
        "Формат выходных данных\n",
        "Одно число — сумма цифр.\n",
        "\n",
        "Примеры\n",
        "Ввод\tВывод\n",
        "179   17\n",
        "\n"
      ]
    },
    {
      "cell_type": "code",
      "execution_count": null,
      "metadata": {
        "colab": {
          "base_uri": "https://localhost:8080/"
        },
        "id": "ZExLwDbLzIiL",
        "outputId": "01700095-fc8b-4d08-c97d-aca3fc32c966"
      },
      "outputs": [
        {
          "name": "stdout",
          "output_type": "stream",
          "text": [
            "Enter a three-digit number:179\n",
            "17\n"
          ]
        }
      ],
      "source": [
        "number = int(input())\n",
        "sumDigits = number % 10\n",
        "number //= 10\n",
        "\n",
        "sumDigits += number % 10\n",
        "number //= 10\n",
        "\n",
        "sumDigits += number\n",
        "\n",
        "print(sumDigits)"
      ]
    },
    {
      "cell_type": "markdown",
      "metadata": {
        "id": "QSMjhAMG_gVD"
      },
      "source": [
        "# Задача C-Високосный год\n",
        "\n",
        "Требуется определить, является ли данный год високосным. (Год является високосным, если его номер кратен 4, но не кратен 100, а также если он кратен 400).\n",
        "\n",
        "Формат входных данных\n",
        "На вход подается натуральное число N - номер года (0 < N < 100000).\n",
        "\n",
        "Формат выходных данных\n",
        "Вывести YES если год високосный и NO в противном случае."
      ]
    },
    {
      "cell_type": "code",
      "execution_count": null,
      "metadata": {
        "colab": {
          "base_uri": "https://localhost:8080/"
        },
        "id": "jg6HipCK_so1",
        "outputId": "31189035-dd11-480a-9946-7d1cc3b22092"
      },
      "outputs": [
        {
          "name": "stdout",
          "output_type": "stream",
          "text": [
            "2004\n",
            "YES\n"
          ]
        }
      ],
      "source": [
        "N = int(input())\n",
        "if (N % 4 == 0 and N % 100 != 0):\n",
        "  print(\"YES\")\n",
        "elif N % 400 == 0:\n",
        "  print(\"YES\")\n",
        "else:\n",
        "  print(\"NO\")"
      ]
    },
    {
      "cell_type": "markdown",
      "metadata": {
        "id": "i4c2ai3yCO8Q"
      },
      "source": [
        "# Сдать решение задачи D-Список квадратов\n",
        "\n",
        "По данному натуральному числу N распечатайте все квадраты натуральных чисел, не превосходящие N , в порядке возрастания.\n",
        "\n",
        "ВАЖНО! В данной задаче необходимо использовать цикл.\n",
        "\n",
        "Формат входных данных\n",
        "На вход программе передается целое число N , не превышающее 10000.\n",
        "\n",
        "Формат выходных данных\n",
        "Программа должна распечатать последовательность чисел в порядке возрастания. В качестве разделителя используется побел."
      ]
    },
    {
      "cell_type": "code",
      "execution_count": null,
      "metadata": {
        "colab": {
          "base_uri": "https://localhost:8080/"
        },
        "id": "JDw8bG0cCX-j",
        "outputId": "8fca479b-dc9c-49a5-d965-3918feeeadcd"
      },
      "outputs": [
        {
          "name": "stdout",
          "output_type": "stream",
          "text": [
            "50\n",
            "1 4 9 16 25 36 49 "
          ]
        }
      ],
      "source": [
        "N = int(input())\n",
        "for k in range(1, N):\n",
        "  if k ** 2 > N:\n",
        "    break\n",
        "  else:\n",
        "    print(k ** 2, end=' ')"
      ]
    },
    {
      "cell_type": "code",
      "execution_count": null,
      "metadata": {
        "colab": {
          "base_uri": "https://localhost:8080/"
        },
        "id": "ToUVU-O8GOEA",
        "outputId": "312a1766-fc1f-4157-8ce4-7e0798f80ddd"
      },
      "outputs": [
        {
          "name": "stdout",
          "output_type": "stream",
          "text": [
            "25\n",
            "1 4 9 16 25 "
          ]
        }
      ],
      "source": [
        "def main():\n",
        "  list_of_squares()\n",
        "\n",
        "\n",
        "\n",
        "def list_of_squares():\n",
        "  N = int(input())\n",
        "  for k in range(1, N):\n",
        "    if k ** 2 > N:\n",
        "      return\n",
        "    else:\n",
        "      print(k ** 2, end=' ')\n",
        "\n",
        "main()"
      ]
    },
    {
      "cell_type": "markdown",
      "metadata": {
        "id": "Qd_EYdd2NZOw"
      },
      "source": [
        "# Сдать решение задачи E-Двоичный логарифм\n",
        "\n",
        "По данному натуральному числу N выведите такое наименьшее целое число k , что 2^k >= N .\n",
        "\n",
        "ВАЖНО! В данной задаче необходимо использовать цикл. Использование инструкции if запрещено. В этой задаче нельзя использовать возведение в степень.\n",
        "\n",
        "формат входных данных\n",
        "На вход программе подается натуральное число N , не превышающее 10000.\n",
        "\n",
        "формат выходных данных\n",
        "Требуется напечатать наименьшее k , удовлетворяющее условию задачи"
      ]
    },
    {
      "cell_type": "code",
      "execution_count": null,
      "metadata": {
        "colab": {
          "base_uri": "https://localhost:8080/"
        },
        "id": "lfCXeey3Npmp",
        "outputId": "9209f872-e537-416b-dd24-2197cb53b79e"
      },
      "outputs": [
        {
          "name": "stdout",
          "output_type": "stream",
          "text": [
            "4\n",
            "2\n"
          ]
        }
      ],
      "source": [
        "N = int(input())\n",
        "k = 1\n",
        "i = 0\n",
        "while(k < N):\n",
        "  k *= 2\n",
        "  i += 1\n",
        "print(i)\n",
        "    "
      ]
    },
    {
      "cell_type": "markdown",
      "metadata": {
        "id": "iKVOP2C3UOom"
      },
      "source": [
        "# Сдать решение задачи F-Длина последовательности\n",
        "\n",
        "Программа получает на вход последовательность целых неотрицательных чисел, каждое число записано в отдельной строке. Последовательность завершается числом 0, при считывании которого программа должна закончить свою работу и вывести количество членов последовательности (не считая завершающего числа 0). Числа, следующие за числом 0, считывать не нужно."
      ]
    },
    {
      "cell_type": "code",
      "execution_count": null,
      "metadata": {
        "colab": {
          "base_uri": "https://localhost:8080/"
        },
        "id": "AbNSvazaUbe4",
        "outputId": "ff869de9-6665-4fc4-8d1a-123e06021a25"
      },
      "outputs": [
        {
          "name": "stdout",
          "output_type": "stream",
          "text": [
            "5\n",
            "0\n",
            "1\n"
          ]
        }
      ],
      "source": [
        "Number = int(input())\n",
        "count = 0\n",
        "while Number != 0:\n",
        "  count += 1\n",
        "  Number = int(input())\n",
        "print(count)"
      ]
    },
    {
      "cell_type": "markdown",
      "metadata": {
        "id": "NGtjcxqoWd-J"
      },
      "source": [
        "# Сдать решение задачи G-Сумма введенной последовательности\n",
        "\n",
        "Определите сумму всех элементов последовательности, завершающейся числом 0.\n",
        "\n",
        "Числа, следующие за нулем, считывать не нужно.\n",
        "\n",
        "Формат входных данных\n",
        "Вводятся элементы последовательности по одному целому числу на строку. Числа вводятся, пока не будет введен 0.\n",
        "\n",
        "Формат выходных данных\n",
        "Вывести одно целое число - сумму последовательности.\n"
      ]
    },
    {
      "cell_type": "code",
      "execution_count": null,
      "metadata": {
        "colab": {
          "base_uri": "https://localhost:8080/"
        },
        "id": "PPk_viOwWolh",
        "outputId": "3434d3ac-8b4b-4908-84dc-970bdf986632"
      },
      "outputs": [
        {
          "name": "stdout",
          "output_type": "stream",
          "text": [
            "5\n",
            "5\n",
            "5\n",
            "0\n",
            "15\n"
          ]
        }
      ],
      "source": [
        "Number = int(input())\n",
        "sum = 0\n",
        "while Number != 0:\n",
        "  sum += Number\n",
        "  Number = int(input())\n",
        "print(sum)"
      ]
    },
    {
      "cell_type": "markdown",
      "metadata": {
        "id": "kRbLnP06Xh1_"
      },
      "source": [
        "# Сдать решение задачи H-Количество четных элементов\n",
        "\n",
        "Посчитать количество четных элементов в массиве целых чисел, заканчивающихся нулём. Сам ноль учитывать не надо.\n",
        "\n",
        "Формат входных данных\n",
        "Массив чисел, заканчивающийся нулём (каждое число с новой строки, ноль не входит в массив)\n",
        "\n",
        "Формат выходных данных\n",
        "Одно число — результат."
      ]
    },
    {
      "cell_type": "code",
      "execution_count": null,
      "metadata": {
        "colab": {
          "base_uri": "https://localhost:8080/"
        },
        "id": "pGvq6th4Xsks",
        "outputId": "7711b808-76f4-4467-e4d3-8a9dc56cfb88"
      },
      "outputs": [
        {
          "name": "stdout",
          "output_type": "stream",
          "text": [
            "1\n",
            "-1\n",
            "0\n",
            "0\n"
          ]
        }
      ],
      "source": [
        "A = []\n",
        "tmp = 1\n",
        "while tmp != 0:\n",
        "  tmp = int(input())\n",
        "  A.append(tmp)\n",
        "count = 0\n",
        "for k in range(len(A)-1):\n",
        "  if A[k] % 2 == 0:\n",
        "    count += 1\n",
        "print(count)"
      ]
    },
    {
      "cell_type": "code",
      "execution_count": null,
      "metadata": {
        "colab": {
          "base_uri": "https://localhost:8080/"
        },
        "id": "UeaCJia9fEX0",
        "outputId": "d1800a19-f9e9-43d1-addb-937ffbe41eba"
      },
      "outputs": [
        {
          "name": "stdout",
          "output_type": "stream",
          "text": [
            "8\n",
            "4\n",
            "6\n",
            "5\n",
            "0\n",
            "[8, 4, 6, 5]\n",
            "3\n"
          ]
        }
      ],
      "source": [
        "def main():\n",
        "  Arr = []\n",
        "  Filling_array(Arr)\n",
        "  print(Arr)\n",
        "  print(number_even_numbers(Arr))\n",
        "\n",
        "\n",
        "def Filling_array(Arr):\n",
        "  \"\"\" Функция, позволяющая ввести с клавиатуры целые числа в \n",
        "      массив Arr, ввод нуля завершает ввод, нуль в массив не входит\n",
        "  \"\"\"\n",
        "  tmp = 1\n",
        "  while tmp != 0:\n",
        "    tmp = int(input())\n",
        "    if tmp == 0:\n",
        "      break\n",
        "    else:\n",
        "      Arr.append(tmp)\n",
        "   \n",
        "\n",
        "def number_even_numbers(Arr):\n",
        "  \"\"\" Функция возвращает количество четных элементов в массиве\"\"\"\n",
        "  count = 0\n",
        "  for k in range(len(Arr)):\n",
        "    if Arr[k] % 2 == 0:\n",
        "      count += 1\n",
        "  return count\n",
        "\n",
        "  \n",
        "\n",
        "main()"
      ]
    },
    {
      "cell_type": "markdown",
      "metadata": {
        "id": "YFyKtvlxeVBj"
      },
      "source": [
        "# Сдать решение задачи I-Максимум последовательности\n",
        "\n",
        "Последовательность состоит из натуральных чисел и завершается числом 0. Определите значение наибольшего элемента последовательности.\n",
        "\n",
        "Числа, следующие за нулем, считывать не нужно.\n",
        "\n",
        "Формат входных данных\n",
        "Вводится последовательность целых чисел, оканчивающаяся числом 0 (само число 0 в последовательность не входит).\n",
        "\n",
        "Формат выходных данных\n",
        "Выведите ответ на задачу (одно число)."
      ]
    },
    {
      "cell_type": "code",
      "execution_count": null,
      "metadata": {
        "colab": {
          "base_uri": "https://localhost:8080/"
        },
        "id": "ACx266jNea1Q",
        "outputId": "e82123e0-da4d-4d77-c0a9-02a83ff1af7b"
      },
      "outputs": [
        {
          "name": "stdout",
          "output_type": "stream",
          "text": [
            "1\n",
            "2\n",
            "3\n",
            "4\n",
            "10\n",
            "50\n",
            "30\n",
            "40\n",
            "90\n",
            "45\n",
            "62\n",
            "0\n",
            "90\n"
          ]
        }
      ],
      "source": [
        "def main():\n",
        "  Arr = []\n",
        "  Filling_array(Arr)\n",
        "  print(find_maximum(Arr))\n",
        "\n",
        "def Filling_array(Arr):\n",
        "  \"\"\" Функция, позволяющая ввести с клавиатуры целые числа в \n",
        "      массив Arr, ввод нуля завершает ввод, нуль в массив не входит\n",
        "  \"\"\"\n",
        "  tmp = 1\n",
        "  while tmp != 0:\n",
        "    tmp = int(input())\n",
        "    if tmp == 0:\n",
        "      break\n",
        "    else:\n",
        "      Arr.append(tmp)\n",
        "\n",
        "\n",
        "def find_maximum(Arr):\n",
        "  \"\"\" Функция находит максимальное значение в массиве и возвращает его\"\"\"\n",
        "  max = 0\n",
        "  for k in range(len(Arr)):\n",
        "    if Arr[k] >= max:\n",
        "      max = Arr[k]\n",
        "  return max\n",
        "\n",
        "\n",
        "main()"
      ]
    },
    {
      "cell_type": "markdown",
      "metadata": {
        "id": "uDyRw2gXsXQs"
      },
      "source": [
        "# Сдать решение задачи J-Количество элементов, равных максимуму\n",
        "Последовательность состоит из натуральных чисел и завершается числом 0. Всего вводится не более 10000 чисел (не считая завершающего числа 0). Определите, сколько элементов этой последовательности равны ее наибольшему элементу. Числа, следующие за числом 0, считывать не нужно.\n",
        "\n",
        "Формат входных данных\n",
        "Вводится последовательность целых чисел, оканчивающаяся числом 0 (само число 0 в последовательность не входит).\n",
        "\n",
        "Формат выходных данных\n",
        "Выведите ответ на задачу (одно число).\n"
      ]
    },
    {
      "cell_type": "code",
      "execution_count": null,
      "metadata": {
        "colab": {
          "base_uri": "https://localhost:8080/"
        },
        "id": "lUknQheysjIf",
        "outputId": "c0d65158-9c74-411d-806f-17ef30b25cdb"
      },
      "outputs": [
        {
          "name": "stdout",
          "output_type": "stream",
          "text": [
            "5\n",
            "5\n",
            "5\n",
            "5\n",
            "5\n",
            "0\n",
            "5\n"
          ]
        }
      ],
      "source": [
        "def main():\n",
        "  Arr = []\n",
        "  Filling_array(Arr)\n",
        "  maxValue = (find_maximum(Arr))\n",
        "  print(repeating_max_value(Arr, maxValue))\n",
        "\n",
        "\n",
        "def Filling_array(Arr):\n",
        "  \"\"\" Функция, позволяющая ввести с клавиатуры целые числа в \n",
        "      массив Arr, ввод нуля завершает ввод, нуль в массив не входит\n",
        "  \"\"\"\n",
        "  tmp = 1\n",
        "  while tmp != 0:\n",
        "    tmp = int(input())\n",
        "    if tmp == 0:\n",
        "      break\n",
        "    else:\n",
        "      Arr.append(tmp)\n",
        "\n",
        "\n",
        "def find_maximum(Arr):\n",
        "  \"\"\" Функция находит максимальное значение в массиве и возвращает его\"\"\"\n",
        "  max = 0\n",
        "  for k in range(len(Arr)):\n",
        "    if Arr[k] >= max:\n",
        "      max = Arr[k]\n",
        "  return max\n",
        "\n",
        "\n",
        "def repeating_max_value(Arr, maxValue):\n",
        "  \"\"\" Функция возвращает кол-во элементов массива Arr, \n",
        "      имеющих максимальное значение maxValue\n",
        "  \"\"\"\n",
        "  count = 0\n",
        "  for k in range(len(Arr)):\n",
        "    if Arr[k] == maxValue:\n",
        "      count += 1\n",
        "\n",
        "  return count\n",
        "\n",
        "main()"
      ]
    },
    {
      "cell_type": "markdown",
      "metadata": {
        "id": "47fb36NnwdAH"
      },
      "source": [
        "# Сдать решение задачи B-Ход ферзя\n",
        "\n",
        "Шахматный ферзь может ходить на любое число клеток по горизонтали, по вертикали или по диагонали. Даны две различные клетки шахматной доски, определите, может ли ферзь попасть с первой клетки на вторую одним ходом. Для простоты можно не рассматривать случай, когда данные клетки совпадают.\n",
        "\n",
        "Формат входных данных\n",
        "Программа получает на вход четыре числа от 1 до 8 каждое, задающие номер столбца и номер строки сначала для первой клетки, потом для второй клетки.\n",
        "\n",
        "Формат выходных данных\n",
        "Программа должна вывести YES, если из первой клетки ходом ферзя можно попасть во вторую. В противном случае - NO."
      ]
    },
    {
      "cell_type": "code",
      "execution_count": null,
      "metadata": {
        "colab": {
          "base_uri": "https://localhost:8080/"
        },
        "id": "sBWiRuM2wmme",
        "outputId": "a8c306f4-9e6f-489f-fe39-114e6f7c26bb"
      },
      "outputs": [
        {
          "name": "stdout",
          "output_type": "stream",
          "text": [
            "1\n",
            "1\n",
            "8\n",
            "1\n",
            "YES\n"
          ]
        }
      ],
      "source": [
        "x1 = int(input())\n",
        "y1 = int(input())\n",
        "x2 = int(input())\n",
        "y2 = int(input())\n",
        "\n",
        "if x1 == x2 or y1 == y2:\n",
        "  print(\"YES\")\n",
        "elif abs(x1 - x2) == abs(y1 - y2):\n",
        "  print(\"YES\")\n",
        "else:\n",
        "  print(\"NO\")"
      ]
    }
  ],
  "metadata": {
    "colab": {
      "authorship_tag": "ABX9TyMO8Qo4E/KqNwZYfASJ8VtR",
      "name": "Тимофей Хирьянов_Контест: выделение цифр, if, for, while",
      "provenance": [],
      "toc_visible": true
    },
    "kernelspec": {
      "display_name": "Python 3.10.4 64-bit",
      "language": "python",
      "name": "python3"
    },
    "language_info": {
      "codemirror_mode": {
        "name": "ipython",
        "version": 3
      },
      "file_extension": ".py",
      "mimetype": "text/x-python",
      "name": "python",
      "nbconvert_exporter": "python",
      "pygments_lexer": "ipython3",
      "version": "3.10.4"
    },
    "vscode": {
      "interpreter": {
        "hash": "26de051ba29f2982a8de78e945f0abaf191376122a1563185a90213a26c5da77"
      }
    }
  },
  "nbformat": 4,
  "nbformat_minor": 0
}
